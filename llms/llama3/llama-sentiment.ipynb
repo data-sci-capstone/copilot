{
 "cells": [
  {
   "cell_type": "code",
   "execution_count": null,
   "metadata": {},
   "outputs": [],
   "source": [
    "import socket\n",
    "socket.gethostname()"
   ]
  },
  {
   "cell_type": "code",
   "execution_count": null,
   "metadata": {
    "metadata": {}
   },
   "outputs": [],
   "source": [
    "from dotenv import load_dotenv\n",
    "load_dotenv()\n",
    "\n",
    "# get to working directory of llms\n",
    "import sys\n",
    "sys.path.append('/data/homezvol2/denisw1/copilot/llms/user_modules')\n",
    "from db import Session, get_training_data, add_sentiments_data\n",
    "from helper_functions import generated_decoded_output, find_sentiment\n",
    "\n",
    "import pandas as pd"
   ]
  },
  {
   "cell_type": "code",
   "execution_count": null,
   "metadata": {},
   "outputs": [],
   "source": [
    "training_data = get_training_data()\n",
    "training_data.head()"
   ]
  },
  {
   "cell_type": "code",
   "execution_count": null,
   "metadata": {},
   "outputs": [],
   "source": [
    "unproc_llama3 = training_data.apply(generated_decoded_output, axis = 1, model_id = \"meta-llama/Meta-Llama-3-8B-Instruct\")\n",
    "unproc_llama3.head()"
   ]
  },
  {
   "cell_type": "code",
   "execution_count": null,
   "metadata": {},
   "outputs": [],
   "source": [
    "proc_llama3 = pd.read_csv(\"llama3-sentiment.csv\")\n",
    "proc_llama3.head()"
   ]
  },
  {
   "cell_type": "code",
   "execution_count": null,
   "metadata": {},
   "outputs": [],
   "source": [
    "proc_llama3 = proc_llama3.apply(find_sentiment, axis = 1)\n",
    "proc_llama3.head()"
   ]
  },
  {
   "cell_type": "code",
   "execution_count": null,
   "metadata": {},
   "outputs": [],
   "source": [
    "proc_llama3[\"model_id\"] = \"llama 3 8b\"\n",
    "proc_llama3.head()"
   ]
  },
  {
   "cell_type": "code",
   "execution_count": null,
   "metadata": {},
   "outputs": [],
   "source": [
    "proc_llama3 = proc_llama3[[\"dialogue_id\", \"model_id\", \"generated_sentiment\", \"memory_sentiment_usage\", \"time_sentiment_taken\"]]\n",
    "proc_llama3.head()"
   ]
  },
  {
   "cell_type": "code",
   "execution_count": null,
   "metadata": {},
   "outputs": [],
   "source": [
    "add_sentiments_data(proc_llama3)"
   ]
  }
 ],
 "metadata": {
  "kernelspec": {
   "display_name": "Python 3 (ipykernel)",
   "language": "python",
   "name": "python3"
  },
  "language_info": {
   "codemirror_mode": {
    "name": "ipython",
    "version": 3
   },
   "file_extension": ".py",
   "mimetype": "text/x-python",
   "name": "python",
   "nbconvert_exporter": "python",
   "pygments_lexer": "ipython3",
   "version": "3.12.2"
  }
 },
 "nbformat": 4,
 "nbformat_minor": 2
}
