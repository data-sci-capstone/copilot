{
 "cells": [
  {
   "cell_type": "code",
   "execution_count": 1,
   "metadata": {},
   "outputs": [],
   "source": [
    "from dotenv import load_dotenv\n",
    "load_dotenv()\n",
    "\n",
    "# get to working directory of llms\n",
    "import sys\n",
    "sys.path.append('/pub/anvieyra/copilot/llms/user_modules')\n",
    "from db import Session, get_training_data, add_sentiments_data\n",
    "from helper_functions import generated_decoded_output, find_sentiment\n",
    "import pandas as pd"
   ]
  },
  {
   "cell_type": "code",
   "execution_count": 2,
   "metadata": {},
   "outputs": [
    {
     "data": {
      "text/html": [
       "<div>\n",
       "<style scoped>\n",
       "    .dataframe tbody tr th:only-of-type {\n",
       "        vertical-align: middle;\n",
       "    }\n",
       "\n",
       "    .dataframe tbody tr th {\n",
       "        vertical-align: top;\n",
       "    }\n",
       "\n",
       "    .dataframe thead th {\n",
       "        text-align: right;\n",
       "    }\n",
       "</style>\n",
       "<table border=\"1\" class=\"dataframe\">\n",
       "  <thead>\n",
       "    <tr style=\"text-align: right;\">\n",
       "      <th></th>\n",
       "      <th>dialogue_id</th>\n",
       "      <th>dataset</th>\n",
       "      <th>dialogue_text</th>\n",
       "      <th>actual_summary</th>\n",
       "      <th>actual_sentiment</th>\n",
       "    </tr>\n",
       "  </thead>\n",
       "  <tbody>\n",
       "    <tr>\n",
       "      <th>0</th>\n",
       "      <td>3816</td>\n",
       "      <td>training</td>\n",
       "      <td>#Person1#: Good morning, sir. Is there anythin...</td>\n",
       "      <td>#Person2# wants a suit made in 100 % black Bar...</td>\n",
       "      <td>neutral</td>\n",
       "    </tr>\n",
       "    <tr>\n",
       "      <th>1</th>\n",
       "      <td>3</td>\n",
       "      <td>training</td>\n",
       "      <td>#Person1#: Excuse me, did you see a set of key...</td>\n",
       "      <td>#Person1#'s looking for a set of keys and asks...</td>\n",
       "      <td>positive</td>\n",
       "    </tr>\n",
       "    <tr>\n",
       "      <th>2</th>\n",
       "      <td>4</td>\n",
       "      <td>training</td>\n",
       "      <td>#Person1#: Why didn't you tell me you had a gi...</td>\n",
       "      <td>#Person1#'s angry because #Person2# didn't tel...</td>\n",
       "      <td>negative</td>\n",
       "    </tr>\n",
       "    <tr>\n",
       "      <th>3</th>\n",
       "      <td>5</td>\n",
       "      <td>training</td>\n",
       "      <td>#Person1#: Watsup, ladies! Y'll looking'fine t...</td>\n",
       "      <td>Malik invites Nikki to dance. Nikki agrees if ...</td>\n",
       "      <td>positive</td>\n",
       "    </tr>\n",
       "    <tr>\n",
       "      <th>4</th>\n",
       "      <td>6</td>\n",
       "      <td>training</td>\n",
       "      <td>#Person1#: Happy birthday, Aims!\\n#Person2#: T...</td>\n",
       "      <td>Lisa gives Aims a birthday present and Aims lo...</td>\n",
       "      <td>positive</td>\n",
       "    </tr>\n",
       "  </tbody>\n",
       "</table>\n",
       "</div>"
      ],
      "text/plain": [
       "   dialogue_id   dataset                                      dialogue_text  \\\n",
       "0         3816  training  #Person1#: Good morning, sir. Is there anythin...   \n",
       "1            3  training  #Person1#: Excuse me, did you see a set of key...   \n",
       "2            4  training  #Person1#: Why didn't you tell me you had a gi...   \n",
       "3            5  training  #Person1#: Watsup, ladies! Y'll looking'fine t...   \n",
       "4            6  training  #Person1#: Happy birthday, Aims!\\n#Person2#: T...   \n",
       "\n",
       "                                      actual_summary actual_sentiment  \n",
       "0  #Person2# wants a suit made in 100 % black Bar...          neutral  \n",
       "1  #Person1#'s looking for a set of keys and asks...         positive  \n",
       "2  #Person1#'s angry because #Person2# didn't tel...         negative  \n",
       "3  Malik invites Nikki to dance. Nikki agrees if ...         positive  \n",
       "4  Lisa gives Aims a birthday present and Aims lo...         positive  "
      ]
     },
     "execution_count": 2,
     "metadata": {},
     "output_type": "execute_result"
    }
   ],
   "source": [
    "# get training data for sentiment analysis\n",
    "training_data = get_training_data()\n",
    "training_data.head()"
   ]
  },
  {
   "cell_type": "code",
   "execution_count": 3,
   "metadata": {},
   "outputs": [
    {
     "data": {
      "application/vnd.jupyter.widget-view+json": {
       "model_id": "42da9149d65149d798f1dc9ab6f60168",
       "version_major": 2,
       "version_minor": 0
      },
      "text/plain": [
       "Loading checkpoint shards:   0%|          | 0/3 [00:00<?, ?it/s]"
      ]
     },
     "metadata": {},
     "output_type": "display_data"
    },
    {
     "data": {
      "text/html": [
       "<div>\n",
       "<style scoped>\n",
       "    .dataframe tbody tr th:only-of-type {\n",
       "        vertical-align: middle;\n",
       "    }\n",
       "\n",
       "    .dataframe tbody tr th {\n",
       "        vertical-align: top;\n",
       "    }\n",
       "\n",
       "    .dataframe thead th {\n",
       "        text-align: right;\n",
       "    }\n",
       "</style>\n",
       "<table border=\"1\" class=\"dataframe\">\n",
       "  <thead>\n",
       "    <tr style=\"text-align: right;\">\n",
       "      <th></th>\n",
       "      <th>dialogue_id</th>\n",
       "      <th>dataset</th>\n",
       "      <th>dialogue_text</th>\n",
       "      <th>actual_summary</th>\n",
       "      <th>actual_sentiment</th>\n",
       "      <th>generated_sentiment</th>\n",
       "      <th>memory_sentiment_usage</th>\n",
       "      <th>time_sentiment_taken</th>\n",
       "    </tr>\n",
       "  </thead>\n",
       "  <tbody>\n",
       "    <tr>\n",
       "      <th>0</th>\n",
       "      <td>3816</td>\n",
       "      <td>training</td>\n",
       "      <td>#Person1#: Good morning, sir. Is there anythin...</td>\n",
       "      <td>#Person2# wants a suit made in 100 % black Bar...</td>\n",
       "      <td>neutral</td>\n",
       "      <td>Given the following dialogue, output a single ...</td>\n",
       "      <td>26041.963379</td>\n",
       "      <td>0.353360</td>\n",
       "    </tr>\n",
       "    <tr>\n",
       "      <th>1</th>\n",
       "      <td>3</td>\n",
       "      <td>training</td>\n",
       "      <td>#Person1#: Excuse me, did you see a set of key...</td>\n",
       "      <td>#Person1#'s looking for a set of keys and asks...</td>\n",
       "      <td>positive</td>\n",
       "      <td>Given the following dialogue, output a single ...</td>\n",
       "      <td>26204.654785</td>\n",
       "      <td>0.270215</td>\n",
       "    </tr>\n",
       "    <tr>\n",
       "      <th>2</th>\n",
       "      <td>4</td>\n",
       "      <td>training</td>\n",
       "      <td>#Person1#: Why didn't you tell me you had a gi...</td>\n",
       "      <td>#Person1#'s angry because #Person2# didn't tel...</td>\n",
       "      <td>negative</td>\n",
       "      <td>Given the following dialogue, output a single ...</td>\n",
       "      <td>26202.532715</td>\n",
       "      <td>0.269059</td>\n",
       "    </tr>\n",
       "    <tr>\n",
       "      <th>3</th>\n",
       "      <td>5</td>\n",
       "      <td>training</td>\n",
       "      <td>#Person1#: Watsup, ladies! Y'll looking'fine t...</td>\n",
       "      <td>Malik invites Nikki to dance. Nikki agrees if ...</td>\n",
       "      <td>positive</td>\n",
       "      <td>Given the following dialogue, output a single ...</td>\n",
       "      <td>26185.696777</td>\n",
       "      <td>0.270434</td>\n",
       "    </tr>\n",
       "    <tr>\n",
       "      <th>4</th>\n",
       "      <td>6</td>\n",
       "      <td>training</td>\n",
       "      <td>#Person1#: Happy birthday, Aims!\\n#Person2#: T...</td>\n",
       "      <td>Lisa gives Aims a birthday present and Aims lo...</td>\n",
       "      <td>positive</td>\n",
       "      <td>Given the following dialogue, output a single ...</td>\n",
       "      <td>26041.932129</td>\n",
       "      <td>0.200529</td>\n",
       "    </tr>\n",
       "  </tbody>\n",
       "</table>\n",
       "</div>"
      ],
      "text/plain": [
       "   dialogue_id   dataset                                      dialogue_text  \\\n",
       "0         3816  training  #Person1#: Good morning, sir. Is there anythin...   \n",
       "1            3  training  #Person1#: Excuse me, did you see a set of key...   \n",
       "2            4  training  #Person1#: Why didn't you tell me you had a gi...   \n",
       "3            5  training  #Person1#: Watsup, ladies! Y'll looking'fine t...   \n",
       "4            6  training  #Person1#: Happy birthday, Aims!\\n#Person2#: T...   \n",
       "\n",
       "                                      actual_summary actual_sentiment  \\\n",
       "0  #Person2# wants a suit made in 100 % black Bar...          neutral   \n",
       "1  #Person1#'s looking for a set of keys and asks...         positive   \n",
       "2  #Person1#'s angry because #Person2# didn't tel...         negative   \n",
       "3  Malik invites Nikki to dance. Nikki agrees if ...         positive   \n",
       "4  Lisa gives Aims a birthday present and Aims lo...         positive   \n",
       "\n",
       "                                 generated_sentiment  memory_sentiment_usage  \\\n",
       "0  Given the following dialogue, output a single ...            26041.963379   \n",
       "1  Given the following dialogue, output a single ...            26204.654785   \n",
       "2  Given the following dialogue, output a single ...            26202.532715   \n",
       "3  Given the following dialogue, output a single ...            26185.696777   \n",
       "4  Given the following dialogue, output a single ...            26041.932129   \n",
       "\n",
       "   time_sentiment_taken  \n",
       "0              0.353360  \n",
       "1              0.270215  \n",
       "2              0.269059  \n",
       "3              0.270434  \n",
       "4              0.200529  "
      ]
     },
     "execution_count": 3,
     "metadata": {},
     "output_type": "execute_result"
    }
   ],
   "source": [
    "unproc_orca = training_data.apply(generated_decoded_output, axis = 1, model_id = \"microsoft/Orca-2-7b\")\n",
    "unproc_orca.head()"
   ]
  },
  {
   "cell_type": "code",
   "execution_count": 6,
   "metadata": {},
   "outputs": [],
   "source": [
    "unproc_orca.to_csv(\"orca-sentiment.csv\")"
   ]
  },
  {
   "cell_type": "code",
   "execution_count": 7,
   "metadata": {},
   "outputs": [],
   "source": [
    "proc_orca = unproc_orca.apply(find_sentiment, axis = 1)"
   ]
  },
  {
   "cell_type": "code",
   "execution_count": 9,
   "metadata": {},
   "outputs": [],
   "source": [
    "proc_orca[\"model_id\"] = \"orca2 7b\""
   ]
  },
  {
   "cell_type": "code",
   "execution_count": 10,
   "metadata": {},
   "outputs": [],
   "source": [
    "proc_orca = proc_orca[[\"dialogue_id\", \"model_id\", \"generated_sentiment\", \"memory_sentiment_usage\", \"time_sentiment_taken\"]]"
   ]
  },
  {
   "cell_type": "code",
   "execution_count": 11,
   "metadata": {},
   "outputs": [],
   "source": [
    "add_sentiments_data(proc_orca)"
   ]
  }
 ],
 "metadata": {
  "kernelspec": {
   "display_name": "Python 3 (ipykernel)",
   "language": "python",
   "name": "python3"
  },
  "language_info": {
   "codemirror_mode": {
    "name": "ipython",
    "version": 3
   },
   "file_extension": ".py",
   "mimetype": "text/x-python",
   "name": "python",
   "nbconvert_exporter": "python",
   "pygments_lexer": "ipython3",
   "version": "3.12.2"
  }
 },
 "nbformat": 4,
 "nbformat_minor": 2
}
