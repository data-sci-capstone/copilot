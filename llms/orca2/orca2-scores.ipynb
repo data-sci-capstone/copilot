{
 "cells": [
  {
   "cell_type": "code",
   "execution_count": 1,
   "metadata": {},
   "outputs": [],
   "source": [
    "# import os + os.chir is used to get to the llms directory to use the usermodules \n",
    "import os\n",
    "os.chdir('/pub/anvieyra/copilot/llms/user_modules') \n",
    "\n",
    "from  table_instances import Summaries, Sentiments, Base\n",
    "from  db import Session, get_training_data, add_summaries_data\n",
    "from helper_functions import compute_summary_scores\n",
    "import pandas as pd\n",
    "import matplotlib.pyplot as plt\n",
    "\n",
    "session = Session()\n",
    "\n",
    "orca = pd.read_csv(\"../../Datasets/orca2_summary_results.csv\")\n",
    "\n",
    "training_data = get_training_data()\n",
    "\n",
    "merged_df = pd.merge(training_data[[\"dialogue_id\",\"actual_summary\"]], orca, on=\"dialogue_id\", how='inner')\n",
    "\n",
    "merged_df = merged_df.rename(columns={'summary': 'generated_summary', 'time_taken':'time_summary_taken', 'memory_usage':'memory_summary_usage'})\n",
    "\n",
    "merged_df[\"model_id\"] = \"orca2 7b\"\n",
    "\n",
    "import logging\n",
    "logging.getLogger(\"transformers\").setLevel(logging.ERROR)\n",
    "\n",
    "merged_df = merged_df.apply(compute_summary_scores, axis=1)\n",
    "\n",
    "merged_df.to_csv(\"../../Datasets/orca2_scores.csv\", index = False)\n",
    "\n",
    "merged_df = merged_df[['dialogue_id', 'model_id', 'generated_summary', 'rouge_1', 'rouge_2', 'rouge_l', 'bert_precision', 'bert_recall', 'bert_f1', 'meteor', 'memory_summary_usage', 'time_summary_taken']]\n",
    "add_summaries_data(merged_df)"
   ]
  }
 ],
 "metadata": {
  "kernelspec": {
   "display_name": "Python 3 (ipykernel)",
   "language": "python",
   "name": "python3"
  },
  "language_info": {
   "codemirror_mode": {
    "name": "ipython",
    "version": 3
   },
   "file_extension": ".py",
   "mimetype": "text/x-python",
   "name": "python",
   "nbconvert_exporter": "python",
   "pygments_lexer": "ipython3",
   "version": "3.12.2"
  }
 },
 "nbformat": 4,
 "nbformat_minor": 2
}
