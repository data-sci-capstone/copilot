{
 "cells": [
  {
   "cell_type": "code",
   "execution_count": 1,
   "metadata": {},
   "outputs": [],
   "source": [
    "# import os + os.chir is used to get to the llms directory to use the usermodules \n",
    "import os\n",
    "os.chdir('/data/homezvol2/denisw1/copilot/llms/user_modules') \n",
    "\n",
    "from  table_instances import Summaries, Sentiments, Base\n",
    "from  db import Session, get_training_data, add_summaries_data\n",
    "from helper_functions import compute_summary_scores\n",
    "import pandas as pd\n",
    "import matplotlib.pyplot as plt\n",
    "\n",
    "session = Session()"
   ]
  },
  {
   "cell_type": "code",
   "execution_count": 2,
   "metadata": {},
   "outputs": [
    {
     "data": {
      "text/html": [
       "<div>\n",
       "<style scoped>\n",
       "    .dataframe tbody tr th:only-of-type {\n",
       "        vertical-align: middle;\n",
       "    }\n",
       "\n",
       "    .dataframe tbody tr th {\n",
       "        vertical-align: top;\n",
       "    }\n",
       "\n",
       "    .dataframe thead th {\n",
       "        text-align: right;\n",
       "    }\n",
       "</style>\n",
       "<table border=\"1\" class=\"dataframe\">\n",
       "  <thead>\n",
       "    <tr style=\"text-align: right;\">\n",
       "      <th></th>\n",
       "      <th>dialogue_id</th>\n",
       "      <th>summary</th>\n",
       "      <th>time_taken</th>\n",
       "      <th>memory_usage</th>\n",
       "    </tr>\n",
       "  </thead>\n",
       "  <tbody>\n",
       "    <tr>\n",
       "      <th>0</th>\n",
       "      <td>1</td>\n",
       "      <td>The conversation between a doctor and a patien...</td>\n",
       "      <td>0.630070</td>\n",
       "      <td>233.003457</td>\n",
       "    </tr>\n",
       "    <tr>\n",
       "      <th>1</th>\n",
       "      <td>2</td>\n",
       "      <td>The conversation is between a doctor (Dr. Pete...</td>\n",
       "      <td>0.534402</td>\n",
       "      <td>213.580879</td>\n",
       "    </tr>\n",
       "    <tr>\n",
       "      <th>2</th>\n",
       "      <td>3</td>\n",
       "      <td>Two people are searching for a set of keys tha...</td>\n",
       "      <td>0.534402</td>\n",
       "      <td>213.580879</td>\n",
       "    </tr>\n",
       "    <tr>\n",
       "      <th>3</th>\n",
       "      <td>4</td>\n",
       "      <td>The conversation revolves around a person (#Pe...</td>\n",
       "      <td>0.534402</td>\n",
       "      <td>213.580879</td>\n",
       "    </tr>\n",
       "    <tr>\n",
       "      <th>4</th>\n",
       "      <td>5</td>\n",
       "      <td>Malik asks Wen to dance, but she declines beca...</td>\n",
       "      <td>0.534402</td>\n",
       "      <td>213.580879</td>\n",
       "    </tr>\n",
       "  </tbody>\n",
       "</table>\n",
       "</div>"
      ],
      "text/plain": [
       "   dialogue_id                                            summary  time_taken  \\\n",
       "0            1  The conversation between a doctor and a patien...    0.630070   \n",
       "1            2  The conversation is between a doctor (Dr. Pete...    0.534402   \n",
       "2            3  Two people are searching for a set of keys tha...    0.534402   \n",
       "3            4  The conversation revolves around a person (#Pe...    0.534402   \n",
       "4            5  Malik asks Wen to dance, but she declines beca...    0.534402   \n",
       "\n",
       "   memory_usage  \n",
       "0    233.003457  \n",
       "1    213.580879  \n",
       "2    213.580879  \n",
       "3    213.580879  \n",
       "4    213.580879  "
      ]
     },
     "execution_count": 2,
     "metadata": {},
     "output_type": "execute_result"
    }
   ],
   "source": [
    "zephyr = pd.read_csv(\"/data/homezvol2/denisw1/copilot/Datasets/zephyr_summary_results.csv\")\n",
    "zephyr.head()"
   ]
  },
  {
   "cell_type": "code",
   "execution_count": 3,
   "metadata": {},
   "outputs": [
    {
     "data": {
      "text/html": [
       "<div>\n",
       "<style scoped>\n",
       "    .dataframe tbody tr th:only-of-type {\n",
       "        vertical-align: middle;\n",
       "    }\n",
       "\n",
       "    .dataframe tbody tr th {\n",
       "        vertical-align: top;\n",
       "    }\n",
       "\n",
       "    .dataframe thead th {\n",
       "        text-align: right;\n",
       "    }\n",
       "</style>\n",
       "<table border=\"1\" class=\"dataframe\">\n",
       "  <thead>\n",
       "    <tr style=\"text-align: right;\">\n",
       "      <th></th>\n",
       "      <th>dialogue_id</th>\n",
       "      <th>dataset</th>\n",
       "      <th>dialogue_text</th>\n",
       "      <th>actual_summary</th>\n",
       "      <th>actual_sentiment</th>\n",
       "    </tr>\n",
       "  </thead>\n",
       "  <tbody>\n",
       "    <tr>\n",
       "      <th>0</th>\n",
       "      <td>3816</td>\n",
       "      <td>training</td>\n",
       "      <td>#Person1#: Good morning, sir. Is there anythin...</td>\n",
       "      <td>#Person2# wants a suit made in 100 % black Bar...</td>\n",
       "      <td>neutral</td>\n",
       "    </tr>\n",
       "    <tr>\n",
       "      <th>1</th>\n",
       "      <td>3</td>\n",
       "      <td>training</td>\n",
       "      <td>#Person1#: Excuse me, did you see a set of key...</td>\n",
       "      <td>#Person1#'s looking for a set of keys and asks...</td>\n",
       "      <td>positive</td>\n",
       "    </tr>\n",
       "    <tr>\n",
       "      <th>2</th>\n",
       "      <td>4</td>\n",
       "      <td>training</td>\n",
       "      <td>#Person1#: Why didn't you tell me you had a gi...</td>\n",
       "      <td>#Person1#'s angry because #Person2# didn't tel...</td>\n",
       "      <td>negative</td>\n",
       "    </tr>\n",
       "    <tr>\n",
       "      <th>3</th>\n",
       "      <td>5</td>\n",
       "      <td>training</td>\n",
       "      <td>#Person1#: Watsup, ladies! Y'll looking'fine t...</td>\n",
       "      <td>Malik invites Nikki to dance. Nikki agrees if ...</td>\n",
       "      <td>positive</td>\n",
       "    </tr>\n",
       "    <tr>\n",
       "      <th>4</th>\n",
       "      <td>6</td>\n",
       "      <td>training</td>\n",
       "      <td>#Person1#: Happy birthday, Aims!\\n#Person2#: T...</td>\n",
       "      <td>Lisa gives Aims a birthday present and Aims lo...</td>\n",
       "      <td>positive</td>\n",
       "    </tr>\n",
       "  </tbody>\n",
       "</table>\n",
       "</div>"
      ],
      "text/plain": [
       "   dialogue_id   dataset                                      dialogue_text  \\\n",
       "0         3816  training  #Person1#: Good morning, sir. Is there anythin...   \n",
       "1            3  training  #Person1#: Excuse me, did you see a set of key...   \n",
       "2            4  training  #Person1#: Why didn't you tell me you had a gi...   \n",
       "3            5  training  #Person1#: Watsup, ladies! Y'll looking'fine t...   \n",
       "4            6  training  #Person1#: Happy birthday, Aims!\\n#Person2#: T...   \n",
       "\n",
       "                                      actual_summary actual_sentiment  \n",
       "0  #Person2# wants a suit made in 100 % black Bar...          neutral  \n",
       "1  #Person1#'s looking for a set of keys and asks...         positive  \n",
       "2  #Person1#'s angry because #Person2# didn't tel...         negative  \n",
       "3  Malik invites Nikki to dance. Nikki agrees if ...         positive  \n",
       "4  Lisa gives Aims a birthday present and Aims lo...         positive  "
      ]
     },
     "execution_count": 3,
     "metadata": {},
     "output_type": "execute_result"
    }
   ],
   "source": [
    "training_data = get_training_data()\n",
    "training_data.head()"
   ]
  },
  {
   "cell_type": "code",
   "execution_count": null,
   "metadata": {},
   "outputs": [],
   "source": [
    "merged_df = pd.merge(training_data[[\"dialogue_id\",\"actual_summary\"]], zephyr, on=\"dialogue_id\", how='inner')\n",
    "merged_df.head()"
   ]
  },
  {
   "cell_type": "code",
   "execution_count": null,
   "metadata": {},
   "outputs": [],
   "source": [
    "merged_df = merged_df.rename(columns={'summary': 'generated_summary', 'time_taken':'time_summary_taken', 'memory_usage':'memory_summary_usage'})\n",
    "merged_df.head()"
   ]
  },
  {
   "cell_type": "code",
   "execution_count": null,
   "metadata": {},
   "outputs": [],
   "source": [
    "merged_df[\"model_id\"] = \"zephyr 7b beta\"\n",
    "merged_df.head()"
   ]
  },
  {
   "cell_type": "code",
   "execution_count": null,
   "metadata": {},
   "outputs": [],
   "source": [
    "import logging\n",
    "logging.getLogger(\"transformers\").setLevel(logging.ERROR)\n",
    "\n",
    "merged_df = merged_df.apply(compute_summary_scores, axis=1)\n",
    "merged_df.head()"
   ]
  },
  {
   "cell_type": "code",
   "execution_count": null,
   "metadata": {},
   "outputs": [],
   "source": [
    "merged_df.to_csv(\"/data/homezvol2/denisw1/copilot/Datasets/zephyr_scores.csv\", index = False)"
   ]
  },
  {
   "cell_type": "code",
   "execution_count": null,
   "metadata": {},
   "outputs": [],
   "source": [
    "zephyr_scores = pd.read_csv(\"/data/homezvol2/denisw1/copilot/Datasets/zephyr_scores.csv\")\n",
    "zephyr_scores.head()"
   ]
  },
  {
   "cell_type": "code",
   "execution_count": null,
   "metadata": {},
   "outputs": [],
   "source": [
    "merged_df = merged_df[['dialogue_id', 'model_id', 'generated_summary', 'rouge_1', 'rouge_2', 'rouge_l', 'bert_precision', 'bert_recall', 'bert_f1', 'meteor', 'memory_summary_usage', 'time_summary_taken']]\n",
    "merged_df.head()"
   ]
  },
  {
   "cell_type": "code",
   "execution_count": null,
   "metadata": {},
   "outputs": [],
   "source": [
    "add_summaries_data(merged_df)"
   ]
  }
 ],
 "metadata": {
  "kernelspec": {
   "display_name": "Python 3 (ipykernel)",
   "language": "python",
   "name": "python3"
  },
  "language_info": {
   "codemirror_mode": {
    "name": "ipython",
    "version": 3
   },
   "file_extension": ".py",
   "mimetype": "text/x-python",
   "name": "python",
   "nbconvert_exporter": "python",
   "pygments_lexer": "ipython3",
   "version": "3.12.2"
  }
 },
 "nbformat": 4,
 "nbformat_minor": 2
}
