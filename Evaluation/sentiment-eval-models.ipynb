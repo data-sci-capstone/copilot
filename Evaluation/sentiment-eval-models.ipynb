{
 "cells": [
  {
   "cell_type": "code",
   "execution_count": 1,
   "metadata": {},
   "outputs": [],
   "source": [
    "# import os + os.chir is used to get to the llms directory to use the usermodules \n",
    "import os\n",
    "os.chdir('C:/Users/AViey/OneDrive/Documents/College/UCI/Stats/stats170a/copilot/copilot/llms/user_modules') \n",
    "\n",
    "from sklearn.metrics import confusion_matrix\n",
    "import seaborn as sns\n",
    "import matplotlib.pyplot as plt\n",
    "from  db import Session, get_training_data, get_model_sentiment_data, add_sentiment_evaluation_data\n",
    "from table_instances import SentimentEvaluation\n",
    "import pandas as pd\n",
    "from sklearn.metrics import accuracy_score\n",
    "\n",
    "session = Session()"
   ]
  },
  {
   "cell_type": "markdown",
   "metadata": {},
   "source": [
    "Gather Data from different models plus the training data"
   ]
  },
  {
   "cell_type": "code",
   "execution_count": 2,
   "metadata": {},
   "outputs": [
    {
     "data": {
      "text/html": [
       "<div>\n",
       "<style scoped>\n",
       "    .dataframe tbody tr th:only-of-type {\n",
       "        vertical-align: middle;\n",
       "    }\n",
       "\n",
       "    .dataframe tbody tr th {\n",
       "        vertical-align: top;\n",
       "    }\n",
       "\n",
       "    .dataframe thead th {\n",
       "        text-align: right;\n",
       "    }\n",
       "</style>\n",
       "<table border=\"1\" class=\"dataframe\">\n",
       "  <thead>\n",
       "    <tr style=\"text-align: right;\">\n",
       "      <th></th>\n",
       "      <th>dialogue_id</th>\n",
       "      <th>dataset</th>\n",
       "      <th>dialogue_text</th>\n",
       "      <th>actual_summary</th>\n",
       "      <th>actual_sentiment</th>\n",
       "    </tr>\n",
       "  </thead>\n",
       "  <tbody>\n",
       "    <tr>\n",
       "      <th>0</th>\n",
       "      <td>3816</td>\n",
       "      <td>training</td>\n",
       "      <td>#Person1#: Good morning, sir. Is there anythin...</td>\n",
       "      <td>#Person2# wants a suit made in 100 % black Bar...</td>\n",
       "      <td>neutral</td>\n",
       "    </tr>\n",
       "    <tr>\n",
       "      <th>1</th>\n",
       "      <td>3</td>\n",
       "      <td>training</td>\n",
       "      <td>#Person1#: Excuse me, did you see a set of key...</td>\n",
       "      <td>#Person1#'s looking for a set of keys and asks...</td>\n",
       "      <td>positive</td>\n",
       "    </tr>\n",
       "    <tr>\n",
       "      <th>2</th>\n",
       "      <td>4</td>\n",
       "      <td>training</td>\n",
       "      <td>#Person1#: Why didn't you tell me you had a gi...</td>\n",
       "      <td>#Person1#'s angry because #Person2# didn't tel...</td>\n",
       "      <td>negative</td>\n",
       "    </tr>\n",
       "    <tr>\n",
       "      <th>3</th>\n",
       "      <td>5</td>\n",
       "      <td>training</td>\n",
       "      <td>#Person1#: Watsup, ladies! Y'll looking'fine t...</td>\n",
       "      <td>Malik invites Nikki to dance. Nikki agrees if ...</td>\n",
       "      <td>positive</td>\n",
       "    </tr>\n",
       "    <tr>\n",
       "      <th>4</th>\n",
       "      <td>6</td>\n",
       "      <td>training</td>\n",
       "      <td>#Person1#: Happy birthday, Aims!\\n#Person2#: T...</td>\n",
       "      <td>Lisa gives Aims a birthday present and Aims lo...</td>\n",
       "      <td>positive</td>\n",
       "    </tr>\n",
       "  </tbody>\n",
       "</table>\n",
       "</div>"
      ],
      "text/plain": [
       "   dialogue_id   dataset                                      dialogue_text  \\\n",
       "0         3816  training  #Person1#: Good morning, sir. Is there anythin...   \n",
       "1            3  training  #Person1#: Excuse me, did you see a set of key...   \n",
       "2            4  training  #Person1#: Why didn't you tell me you had a gi...   \n",
       "3            5  training  #Person1#: Watsup, ladies! Y'll looking'fine t...   \n",
       "4            6  training  #Person1#: Happy birthday, Aims!\\n#Person2#: T...   \n",
       "\n",
       "                                      actual_summary actual_sentiment  \n",
       "0  #Person2# wants a suit made in 100 % black Bar...          neutral  \n",
       "1  #Person1#'s looking for a set of keys and asks...         positive  \n",
       "2  #Person1#'s angry because #Person2# didn't tel...         negative  \n",
       "3  Malik invites Nikki to dance. Nikki agrees if ...         positive  \n",
       "4  Lisa gives Aims a birthday present and Aims lo...         positive  "
      ]
     },
     "execution_count": 2,
     "metadata": {},
     "output_type": "execute_result"
    }
   ],
   "source": [
    "train_df = get_training_data()\n",
    "train_df.head()"
   ]
  },
  {
   "cell_type": "markdown",
   "metadata": {},
   "source": [
    "Mistral Sentiment"
   ]
  },
  {
   "cell_type": "code",
   "execution_count": 3,
   "metadata": {},
   "outputs": [
    {
     "data": {
      "text/html": [
       "<div>\n",
       "<style scoped>\n",
       "    .dataframe tbody tr th:only-of-type {\n",
       "        vertical-align: middle;\n",
       "    }\n",
       "\n",
       "    .dataframe tbody tr th {\n",
       "        vertical-align: top;\n",
       "    }\n",
       "\n",
       "    .dataframe thead th {\n",
       "        text-align: right;\n",
       "    }\n",
       "</style>\n",
       "<table border=\"1\" class=\"dataframe\">\n",
       "  <thead>\n",
       "    <tr style=\"text-align: right;\">\n",
       "      <th></th>\n",
       "      <th>sentiment_id</th>\n",
       "      <th>dialogue_id</th>\n",
       "      <th>model_id</th>\n",
       "      <th>generated_sentiment</th>\n",
       "      <th>memory_sentiment_usage</th>\n",
       "      <th>time_sentiment_taken</th>\n",
       "    </tr>\n",
       "  </thead>\n",
       "  <tbody>\n",
       "    <tr>\n",
       "      <th>0</th>\n",
       "      <td>1</td>\n",
       "      <td>1</td>\n",
       "      <td>mistral 7b</td>\n",
       "      <td>neutral</td>\n",
       "      <td>None</td>\n",
       "      <td>None</td>\n",
       "    </tr>\n",
       "    <tr>\n",
       "      <th>1</th>\n",
       "      <td>2</td>\n",
       "      <td>2</td>\n",
       "      <td>mistral 7b</td>\n",
       "      <td>neutral</td>\n",
       "      <td>None</td>\n",
       "      <td>None</td>\n",
       "    </tr>\n",
       "    <tr>\n",
       "      <th>2</th>\n",
       "      <td>3</td>\n",
       "      <td>3</td>\n",
       "      <td>mistral 7b</td>\n",
       "      <td>positive</td>\n",
       "      <td>None</td>\n",
       "      <td>None</td>\n",
       "    </tr>\n",
       "    <tr>\n",
       "      <th>3</th>\n",
       "      <td>4</td>\n",
       "      <td>4</td>\n",
       "      <td>mistral 7b</td>\n",
       "      <td>negative</td>\n",
       "      <td>None</td>\n",
       "      <td>None</td>\n",
       "    </tr>\n",
       "    <tr>\n",
       "      <th>4</th>\n",
       "      <td>5</td>\n",
       "      <td>5</td>\n",
       "      <td>mistral 7b</td>\n",
       "      <td>positive</td>\n",
       "      <td>None</td>\n",
       "      <td>None</td>\n",
       "    </tr>\n",
       "  </tbody>\n",
       "</table>\n",
       "</div>"
      ],
      "text/plain": [
       "   sentiment_id  dialogue_id    model_id generated_sentiment  \\\n",
       "0             1            1  mistral 7b             neutral   \n",
       "1             2            2  mistral 7b             neutral   \n",
       "2             3            3  mistral 7b            positive   \n",
       "3             4            4  mistral 7b            negative   \n",
       "4             5            5  mistral 7b            positive   \n",
       "\n",
       "  memory_sentiment_usage time_sentiment_taken  \n",
       "0                   None                 None  \n",
       "1                   None                 None  \n",
       "2                   None                 None  \n",
       "3                   None                 None  \n",
       "4                   None                 None  "
      ]
     },
     "execution_count": 3,
     "metadata": {},
     "output_type": "execute_result"
    }
   ],
   "source": [
    "mistral_sentiment = get_model_sentiment_data('mistral 7b')\n",
    "mistral_sentiment.head()"
   ]
  },
  {
   "cell_type": "markdown",
   "metadata": {},
   "source": [
    "Gemma Sentiment"
   ]
  },
  {
   "cell_type": "code",
   "execution_count": 4,
   "metadata": {},
   "outputs": [
    {
     "data": {
      "text/html": [
       "<div>\n",
       "<style scoped>\n",
       "    .dataframe tbody tr th:only-of-type {\n",
       "        vertical-align: middle;\n",
       "    }\n",
       "\n",
       "    .dataframe tbody tr th {\n",
       "        vertical-align: top;\n",
       "    }\n",
       "\n",
       "    .dataframe thead th {\n",
       "        text-align: right;\n",
       "    }\n",
       "</style>\n",
       "<table border=\"1\" class=\"dataframe\">\n",
       "  <thead>\n",
       "    <tr style=\"text-align: right;\">\n",
       "      <th></th>\n",
       "      <th>sentiment_id</th>\n",
       "      <th>dialogue_id</th>\n",
       "      <th>model_id</th>\n",
       "      <th>generated_sentiment</th>\n",
       "      <th>memory_sentiment_usage</th>\n",
       "      <th>time_sentiment_taken</th>\n",
       "    </tr>\n",
       "  </thead>\n",
       "  <tbody>\n",
       "    <tr>\n",
       "      <th>0</th>\n",
       "      <td>12428</td>\n",
       "      <td>3816</td>\n",
       "      <td>gemma 7b</td>\n",
       "      <td>positive</td>\n",
       "      <td>32950.429688</td>\n",
       "      <td>0.743105</td>\n",
       "    </tr>\n",
       "    <tr>\n",
       "      <th>1</th>\n",
       "      <td>12429</td>\n",
       "      <td>3</td>\n",
       "      <td>gemma 7b</td>\n",
       "      <td>positive</td>\n",
       "      <td>33164.658691</td>\n",
       "      <td>0.858522</td>\n",
       "    </tr>\n",
       "    <tr>\n",
       "      <th>2</th>\n",
       "      <td>12430</td>\n",
       "      <td>4</td>\n",
       "      <td>gemma 7b</td>\n",
       "      <td>neutral</td>\n",
       "      <td>33163.166504</td>\n",
       "      <td>0.802573</td>\n",
       "    </tr>\n",
       "    <tr>\n",
       "      <th>3</th>\n",
       "      <td>12431</td>\n",
       "      <td>5</td>\n",
       "      <td>gemma 7b</td>\n",
       "      <td>positive</td>\n",
       "      <td>33124.416504</td>\n",
       "      <td>0.993101</td>\n",
       "    </tr>\n",
       "    <tr>\n",
       "      <th>4</th>\n",
       "      <td>12432</td>\n",
       "      <td>6</td>\n",
       "      <td>gemma 7b</td>\n",
       "      <td>positive</td>\n",
       "      <td>32954.593750</td>\n",
       "      <td>1.409419</td>\n",
       "    </tr>\n",
       "  </tbody>\n",
       "</table>\n",
       "</div>"
      ],
      "text/plain": [
       "   sentiment_id  dialogue_id  model_id generated_sentiment  \\\n",
       "0         12428         3816  gemma 7b            positive   \n",
       "1         12429            3  gemma 7b            positive   \n",
       "2         12430            4  gemma 7b             neutral   \n",
       "3         12431            5  gemma 7b            positive   \n",
       "4         12432            6  gemma 7b            positive   \n",
       "\n",
       "   memory_sentiment_usage  time_sentiment_taken  \n",
       "0            32950.429688              0.743105  \n",
       "1            33164.658691              0.858522  \n",
       "2            33163.166504              0.802573  \n",
       "3            33124.416504              0.993101  \n",
       "4            32954.593750              1.409419  "
      ]
     },
     "execution_count": 4,
     "metadata": {},
     "output_type": "execute_result"
    }
   ],
   "source": [
    "gemma_sentiment = get_model_sentiment_data(\"gemma 7b\")\n",
    "gemma_sentiment.head()"
   ]
  },
  {
   "cell_type": "markdown",
   "metadata": {},
   "source": [
    "Llama 3 sentiment"
   ]
  },
  {
   "cell_type": "code",
   "execution_count": 5,
   "metadata": {},
   "outputs": [
    {
     "data": {
      "text/html": [
       "<div>\n",
       "<style scoped>\n",
       "    .dataframe tbody tr th:only-of-type {\n",
       "        vertical-align: middle;\n",
       "    }\n",
       "\n",
       "    .dataframe tbody tr th {\n",
       "        vertical-align: top;\n",
       "    }\n",
       "\n",
       "    .dataframe thead th {\n",
       "        text-align: right;\n",
       "    }\n",
       "</style>\n",
       "<table border=\"1\" class=\"dataframe\">\n",
       "  <thead>\n",
       "    <tr style=\"text-align: right;\">\n",
       "      <th></th>\n",
       "      <th>sentiment_id</th>\n",
       "      <th>dialogue_id</th>\n",
       "      <th>model_id</th>\n",
       "      <th>generated_sentiment</th>\n",
       "      <th>memory_sentiment_usage</th>\n",
       "      <th>time_sentiment_taken</th>\n",
       "    </tr>\n",
       "  </thead>\n",
       "  <tbody>\n",
       "    <tr>\n",
       "      <th>0</th>\n",
       "      <td>25855</td>\n",
       "      <td>3816</td>\n",
       "      <td>llama 3 8b</td>\n",
       "      <td>positive</td>\n",
       "      <td>31030.074219</td>\n",
       "      <td>3.045265</td>\n",
       "    </tr>\n",
       "    <tr>\n",
       "      <th>1</th>\n",
       "      <td>25856</td>\n",
       "      <td>3</td>\n",
       "      <td>llama 3 8b</td>\n",
       "      <td>positive</td>\n",
       "      <td>31099.045410</td>\n",
       "      <td>2.877197</td>\n",
       "    </tr>\n",
       "    <tr>\n",
       "      <th>2</th>\n",
       "      <td>25857</td>\n",
       "      <td>4</td>\n",
       "      <td>llama 3 8b</td>\n",
       "      <td>neutral</td>\n",
       "      <td>31097.461426</td>\n",
       "      <td>2.877703</td>\n",
       "    </tr>\n",
       "    <tr>\n",
       "      <th>3</th>\n",
       "      <td>25858</td>\n",
       "      <td>5</td>\n",
       "      <td>llama 3 8b</td>\n",
       "      <td>positive</td>\n",
       "      <td>31085.316406</td>\n",
       "      <td>2.831945</td>\n",
       "    </tr>\n",
       "    <tr>\n",
       "      <th>4</th>\n",
       "      <td>25859</td>\n",
       "      <td>6</td>\n",
       "      <td>llama 3 8b</td>\n",
       "      <td>positive</td>\n",
       "      <td>31031.229492</td>\n",
       "      <td>2.781226</td>\n",
       "    </tr>\n",
       "  </tbody>\n",
       "</table>\n",
       "</div>"
      ],
      "text/plain": [
       "   sentiment_id  dialogue_id    model_id generated_sentiment  \\\n",
       "0         25855         3816  llama 3 8b            positive   \n",
       "1         25856            3  llama 3 8b            positive   \n",
       "2         25857            4  llama 3 8b             neutral   \n",
       "3         25858            5  llama 3 8b            positive   \n",
       "4         25859            6  llama 3 8b            positive   \n",
       "\n",
       "   memory_sentiment_usage  time_sentiment_taken  \n",
       "0            31030.074219              3.045265  \n",
       "1            31099.045410              2.877197  \n",
       "2            31097.461426              2.877703  \n",
       "3            31085.316406              2.831945  \n",
       "4            31031.229492              2.781226  "
      ]
     },
     "execution_count": 5,
     "metadata": {},
     "output_type": "execute_result"
    }
   ],
   "source": [
    "llama3_sentiment = get_model_sentiment_data('llama 3 8b')\n",
    "llama3_sentiment.head()"
   ]
  },
  {
   "cell_type": "markdown",
   "metadata": {},
   "source": [
    "Falcon Sentiment"
   ]
  },
  {
   "cell_type": "code",
   "execution_count": 6,
   "metadata": {},
   "outputs": [
    {
     "data": {
      "text/html": [
       "<div>\n",
       "<style scoped>\n",
       "    .dataframe tbody tr th:only-of-type {\n",
       "        vertical-align: middle;\n",
       "    }\n",
       "\n",
       "    .dataframe tbody tr th {\n",
       "        vertical-align: top;\n",
       "    }\n",
       "\n",
       "    .dataframe thead th {\n",
       "        text-align: right;\n",
       "    }\n",
       "</style>\n",
       "<table border=\"1\" class=\"dataframe\">\n",
       "  <thead>\n",
       "    <tr style=\"text-align: right;\">\n",
       "      <th></th>\n",
       "      <th>sentiment_id</th>\n",
       "      <th>dialogue_id</th>\n",
       "      <th>model_id</th>\n",
       "      <th>generated_sentiment</th>\n",
       "      <th>memory_sentiment_usage</th>\n",
       "      <th>time_sentiment_taken</th>\n",
       "    </tr>\n",
       "  </thead>\n",
       "  <tbody>\n",
       "    <tr>\n",
       "      <th>0</th>\n",
       "      <td>38282</td>\n",
       "      <td>3816</td>\n",
       "      <td>falcon 7b</td>\n",
       "      <td>positive</td>\n",
       "      <td>26544.150391</td>\n",
       "      <td>0.616156</td>\n",
       "    </tr>\n",
       "    <tr>\n",
       "      <th>1</th>\n",
       "      <td>38283</td>\n",
       "      <td>3</td>\n",
       "      <td>falcon 7b</td>\n",
       "      <td>positive</td>\n",
       "      <td>26566.411621</td>\n",
       "      <td>0.252410</td>\n",
       "    </tr>\n",
       "    <tr>\n",
       "      <th>2</th>\n",
       "      <td>38284</td>\n",
       "      <td>4</td>\n",
       "      <td>falcon 7b</td>\n",
       "      <td>positive</td>\n",
       "      <td>26565.179688</td>\n",
       "      <td>0.284257</td>\n",
       "    </tr>\n",
       "    <tr>\n",
       "      <th>3</th>\n",
       "      <td>38285</td>\n",
       "      <td>5</td>\n",
       "      <td>falcon 7b</td>\n",
       "      <td>positive</td>\n",
       "      <td>26562.931641</td>\n",
       "      <td>0.251904</td>\n",
       "    </tr>\n",
       "    <tr>\n",
       "      <th>4</th>\n",
       "      <td>38286</td>\n",
       "      <td>6</td>\n",
       "      <td>falcon 7b</td>\n",
       "      <td>positive</td>\n",
       "      <td>26546.044922</td>\n",
       "      <td>0.220447</td>\n",
       "    </tr>\n",
       "  </tbody>\n",
       "</table>\n",
       "</div>"
      ],
      "text/plain": [
       "   sentiment_id  dialogue_id   model_id generated_sentiment  \\\n",
       "0         38282         3816  falcon 7b            positive   \n",
       "1         38283            3  falcon 7b            positive   \n",
       "2         38284            4  falcon 7b            positive   \n",
       "3         38285            5  falcon 7b            positive   \n",
       "4         38286            6  falcon 7b            positive   \n",
       "\n",
       "   memory_sentiment_usage  time_sentiment_taken  \n",
       "0            26544.150391              0.616156  \n",
       "1            26566.411621              0.252410  \n",
       "2            26565.179688              0.284257  \n",
       "3            26562.931641              0.251904  \n",
       "4            26546.044922              0.220447  "
      ]
     },
     "execution_count": 6,
     "metadata": {},
     "output_type": "execute_result"
    }
   ],
   "source": [
    "falcon_sentiment = get_model_sentiment_data('falcon 7b')\n",
    "falcon_sentiment.head()"
   ]
  },
  {
   "cell_type": "markdown",
   "metadata": {},
   "source": [
    "Compute confusion matrix for mistral"
   ]
  },
  {
   "cell_type": "code",
   "execution_count": 7,
   "metadata": {},
   "outputs": [
    {
     "data": {
      "text/html": [
       "<div>\n",
       "<style scoped>\n",
       "    .dataframe tbody tr th:only-of-type {\n",
       "        vertical-align: middle;\n",
       "    }\n",
       "\n",
       "    .dataframe tbody tr th {\n",
       "        vertical-align: top;\n",
       "    }\n",
       "\n",
       "    .dataframe thead th {\n",
       "        text-align: right;\n",
       "    }\n",
       "</style>\n",
       "<table border=\"1\" class=\"dataframe\">\n",
       "  <thead>\n",
       "    <tr style=\"text-align: right;\">\n",
       "      <th></th>\n",
       "      <th>dialogue_id</th>\n",
       "      <th>actual_sentiment</th>\n",
       "      <th>generated_sentiment</th>\n",
       "    </tr>\n",
       "  </thead>\n",
       "  <tbody>\n",
       "    <tr>\n",
       "      <th>0</th>\n",
       "      <td>3816</td>\n",
       "      <td>neutral</td>\n",
       "      <td>positive</td>\n",
       "    </tr>\n",
       "    <tr>\n",
       "      <th>1</th>\n",
       "      <td>3</td>\n",
       "      <td>positive</td>\n",
       "      <td>positive</td>\n",
       "    </tr>\n",
       "    <tr>\n",
       "      <th>2</th>\n",
       "      <td>4</td>\n",
       "      <td>negative</td>\n",
       "      <td>negative</td>\n",
       "    </tr>\n",
       "    <tr>\n",
       "      <th>3</th>\n",
       "      <td>5</td>\n",
       "      <td>positive</td>\n",
       "      <td>positive</td>\n",
       "    </tr>\n",
       "    <tr>\n",
       "      <th>4</th>\n",
       "      <td>6</td>\n",
       "      <td>positive</td>\n",
       "      <td>positive</td>\n",
       "    </tr>\n",
       "  </tbody>\n",
       "</table>\n",
       "</div>"
      ],
      "text/plain": [
       "   dialogue_id actual_sentiment generated_sentiment\n",
       "0         3816          neutral            positive\n",
       "1            3         positive            positive\n",
       "2            4         negative            negative\n",
       "3            5         positive            positive\n",
       "4            6         positive            positive"
      ]
     },
     "execution_count": 7,
     "metadata": {},
     "output_type": "execute_result"
    }
   ],
   "source": [
    "conf_mat_mistral = pd.merge(train_df[[\"dialogue_id\", \"actual_sentiment\"]],\n",
    "                        mistral_sentiment[[\"dialogue_id\", \"generated_sentiment\"]],\n",
    "                        on=\"dialogue_id\",\n",
    "                        how=\"inner\")\n",
    "conf_mat_mistral.head()"
   ]
  },
  {
   "cell_type": "code",
   "execution_count": 8,
   "metadata": {},
   "outputs": [
    {
     "data": {
      "image/png": "[encoded data removed]",
      "text/plain": [
       "<Figure size 1000x700 with 2 Axes>"
      ]
     },
     "metadata": {},
     "output_type": "display_data"
    }
   ],
   "source": [
    "# Assuming binary_actual and binary_generated are your true and predicted labels converted to binary (if needed)\n",
    "# For multi-class:\n",
    "conf_matrix1 = confusion_matrix(conf_mat_mistral['actual_sentiment'], conf_mat_mistral['generated_sentiment'])\n",
    "\n",
    "# Plotting the confusion matrix\n",
    "plt.figure(figsize=(10, 7))\n",
    "sns.heatmap(conf_matrix1, annot=True, fmt='d', cmap=\"Blues\",\n",
    "            xticklabels=['Negative', 'Neutral', 'Positive'],\n",
    "            yticklabels=['Negative', 'Neutral', 'Positive'])\n",
    "plt.xlabel('Predicted Sentiment')\n",
    "plt.ylabel('True Sentiment')\n",
    "plt.title('Sentiment Confusion Matrix: Mistral', fontsize=16, pad=14)\n",
    "plt.show()"
   ]
  },
  {
   "cell_type": "markdown",
   "metadata": {},
   "source": [
    "Mistral accuracy score"
   ]
  },
  {
   "cell_type": "code",
   "execution_count": 9,
   "metadata": {},
   "outputs": [
    {
     "name": "stdout",
     "output_type": "stream",
     "text": [
      "Overall accuracy: 0.59\n"
     ]
    }
   ],
   "source": [
    "accuracy_mistral = accuracy_score(conf_mat_mistral[\"actual_sentiment\"], conf_mat_mistral[\"generated_sentiment\"])\n",
    "print(f\"Overall accuracy: {accuracy_mistral:.2f}\")"
   ]
  },
  {
   "cell_type": "markdown",
   "metadata": {},
   "source": [
    "Compute confusion matrix for gemma"
   ]
  },
  {
   "cell_type": "code",
   "execution_count": 10,
   "metadata": {},
   "outputs": [
    {
     "data": {
      "text/html": [
       "<div>\n",
       "<style scoped>\n",
       "    .dataframe tbody tr th:only-of-type {\n",
       "        vertical-align: middle;\n",
       "    }\n",
       "\n",
       "    .dataframe tbody tr th {\n",
       "        vertical-align: top;\n",
       "    }\n",
       "\n",
       "    .dataframe thead th {\n",
       "        text-align: right;\n",
       "    }\n",
       "</style>\n",
       "<table border=\"1\" class=\"dataframe\">\n",
       "  <thead>\n",
       "    <tr style=\"text-align: right;\">\n",
       "      <th></th>\n",
       "      <th>dialogue_id</th>\n",
       "      <th>actual_sentiment</th>\n",
       "      <th>generated_sentiment</th>\n",
       "    </tr>\n",
       "  </thead>\n",
       "  <tbody>\n",
       "    <tr>\n",
       "      <th>0</th>\n",
       "      <td>3816</td>\n",
       "      <td>neutral</td>\n",
       "      <td>positive</td>\n",
       "    </tr>\n",
       "    <tr>\n",
       "      <th>1</th>\n",
       "      <td>3</td>\n",
       "      <td>positive</td>\n",
       "      <td>positive</td>\n",
       "    </tr>\n",
       "    <tr>\n",
       "      <th>2</th>\n",
       "      <td>4</td>\n",
       "      <td>negative</td>\n",
       "      <td>neutral</td>\n",
       "    </tr>\n",
       "    <tr>\n",
       "      <th>3</th>\n",
       "      <td>5</td>\n",
       "      <td>positive</td>\n",
       "      <td>positive</td>\n",
       "    </tr>\n",
       "    <tr>\n",
       "      <th>4</th>\n",
       "      <td>6</td>\n",
       "      <td>positive</td>\n",
       "      <td>positive</td>\n",
       "    </tr>\n",
       "  </tbody>\n",
       "</table>\n",
       "</div>"
      ],
      "text/plain": [
       "   dialogue_id actual_sentiment generated_sentiment\n",
       "0         3816          neutral            positive\n",
       "1            3         positive            positive\n",
       "2            4         negative             neutral\n",
       "3            5         positive            positive\n",
       "4            6         positive            positive"
      ]
     },
     "execution_count": 10,
     "metadata": {},
     "output_type": "execute_result"
    }
   ],
   "source": [
    "conf_mat_gemma = pd.merge(train_df[[\"dialogue_id\", \"actual_sentiment\"]],\n",
    "                        gemma_sentiment[[\"dialogue_id\", \"generated_sentiment\"]],\n",
    "                        on=\"dialogue_id\",\n",
    "                        how=\"inner\")\n",
    "conf_mat_gemma.head()"
   ]
  },
  {
   "cell_type": "code",
   "execution_count": 11,
   "metadata": {},
   "outputs": [
    {
     "data": {
      "image/png": "[encoded data removed]",
      "text/plain": [
       "<Figure size 1000x700 with 2 Axes>"
      ]
     },
     "metadata": {},
     "output_type": "display_data"
    }
   ],
   "source": [
    "# Assuming binary_actual and binary_generated are your true and predicted labels converted to binary (if needed)\n",
    "# For multi-class:\n",
    "conf_matrix2 = confusion_matrix(conf_mat_gemma['actual_sentiment'], conf_mat_gemma['generated_sentiment'])\n",
    "\n",
    "# Plotting the confusion matrix\n",
    "plt.figure(figsize=(10, 7))\n",
    "sns.heatmap(conf_matrix2, annot=True, fmt='d', cmap=\"Reds\",\n",
    "            xticklabels=['Negative', 'Neutral', 'Positive'],\n",
    "            yticklabels=['Negative', 'Neutral', 'Positive'])\n",
    "plt.xlabel('Predicted Sentiment')\n",
    "plt.ylabel('True Sentiment')\n",
    "plt.title('Sentiment Confusion Matrix: Gemma', fontsize=16, pad=14)\n",
    "plt.show()"
   ]
  },
  {
   "cell_type": "code",
   "execution_count": 12,
   "metadata": {},
   "outputs": [
    {
     "name": "stdout",
     "output_type": "stream",
     "text": [
      "Overall accuracy: 0.54\n"
     ]
    }
   ],
   "source": [
    "accuracy_gemma = accuracy_score(conf_mat_gemma[\"actual_sentiment\"], conf_mat_gemma[\"generated_sentiment\"])\n",
    "print(f\"Overall accuracy: {accuracy_gemma:.2f}\")"
   ]
  },
  {
   "cell_type": "markdown",
   "metadata": {},
   "source": [
    "Compute Confusion Matrix for LLama 3"
   ]
  },
  {
   "cell_type": "code",
   "execution_count": 13,
   "metadata": {},
   "outputs": [
    {
     "data": {
      "text/html": [
       "<div>\n",
       "<style scoped>\n",
       "    .dataframe tbody tr th:only-of-type {\n",
       "        vertical-align: middle;\n",
       "    }\n",
       "\n",
       "    .dataframe tbody tr th {\n",
       "        vertical-align: top;\n",
       "    }\n",
       "\n",
       "    .dataframe thead th {\n",
       "        text-align: right;\n",
       "    }\n",
       "</style>\n",
       "<table border=\"1\" class=\"dataframe\">\n",
       "  <thead>\n",
       "    <tr style=\"text-align: right;\">\n",
       "      <th></th>\n",
       "      <th>dialogue_id</th>\n",
       "      <th>actual_sentiment</th>\n",
       "      <th>generated_sentiment</th>\n",
       "    </tr>\n",
       "  </thead>\n",
       "  <tbody>\n",
       "    <tr>\n",
       "      <th>0</th>\n",
       "      <td>3816</td>\n",
       "      <td>neutral</td>\n",
       "      <td>positive</td>\n",
       "    </tr>\n",
       "    <tr>\n",
       "      <th>1</th>\n",
       "      <td>3</td>\n",
       "      <td>positive</td>\n",
       "      <td>positive</td>\n",
       "    </tr>\n",
       "    <tr>\n",
       "      <th>2</th>\n",
       "      <td>4</td>\n",
       "      <td>negative</td>\n",
       "      <td>neutral</td>\n",
       "    </tr>\n",
       "    <tr>\n",
       "      <th>3</th>\n",
       "      <td>5</td>\n",
       "      <td>positive</td>\n",
       "      <td>positive</td>\n",
       "    </tr>\n",
       "    <tr>\n",
       "      <th>4</th>\n",
       "      <td>6</td>\n",
       "      <td>positive</td>\n",
       "      <td>positive</td>\n",
       "    </tr>\n",
       "  </tbody>\n",
       "</table>\n",
       "</div>"
      ],
      "text/plain": [
       "   dialogue_id actual_sentiment generated_sentiment\n",
       "0         3816          neutral            positive\n",
       "1            3         positive            positive\n",
       "2            4         negative             neutral\n",
       "3            5         positive            positive\n",
       "4            6         positive            positive"
      ]
     },
     "execution_count": 13,
     "metadata": {},
     "output_type": "execute_result"
    }
   ],
   "source": [
    "conf_mat_llama3 = pd.merge(train_df[[\"dialogue_id\", \"actual_sentiment\"]],\n",
    "                        llama3_sentiment[[\"dialogue_id\", \"generated_sentiment\"]],\n",
    "                        on=\"dialogue_id\",\n",
    "                        how=\"inner\")\n",
    "conf_mat_llama3.head()"
   ]
  },
  {
   "cell_type": "code",
   "execution_count": 14,
   "metadata": {},
   "outputs": [
    {
     "data": {
      "image/png": "[encoded data removed]",
      "text/plain": [
       "<Figure size 1000x700 with 2 Axes>"
      ]
     },
     "metadata": {},
     "output_type": "display_data"
    }
   ],
   "source": [
    "# Assuming binary_actual and binary_generated are your true and predicted labels converted to binary (if needed)\n",
    "# For multi-class:\n",
    "conf_matrix3 = confusion_matrix(conf_mat_llama3['actual_sentiment'], conf_mat_llama3['generated_sentiment'])\n",
    "\n",
    "# Plotting the confusion matrix\n",
    "plt.figure(figsize=(10, 7))\n",
    "sns.heatmap(conf_matrix3, annot=True, fmt='d', cmap=\"Greens\",\n",
    "            xticklabels=['Negative', 'Neutral', 'Positive'],\n",
    "            yticklabels=['Negative', 'Neutral', 'Positive'])\n",
    "plt.xlabel('Predicted Sentiment')\n",
    "plt.ylabel('True Sentiment')\n",
    "plt.title('Sentiment Confusion Matrix: Llama 3', fontsize=16, pad=14)\n",
    "plt.show()"
   ]
  },
  {
   "cell_type": "code",
   "execution_count": 15,
   "metadata": {},
   "outputs": [
    {
     "name": "stdout",
     "output_type": "stream",
     "text": [
      "Overall accuracy: 0.58\n"
     ]
    }
   ],
   "source": [
    "accuracy_llama3 = accuracy_score(conf_mat_llama3[\"actual_sentiment\"], conf_mat_llama3[\"generated_sentiment\"])\n",
    "print(f\"Overall accuracy: {accuracy_llama3:.2f}\")"
   ]
  },
  {
   "cell_type": "markdown",
   "metadata": {},
   "source": [
    "Falcon: Confusion Matrix & Acc. Score"
   ]
  },
  {
   "cell_type": "code",
   "execution_count": 16,
   "metadata": {},
   "outputs": [
    {
     "data": {
      "text/html": [
       "<div>\n",
       "<style scoped>\n",
       "    .dataframe tbody tr th:only-of-type {\n",
       "        vertical-align: middle;\n",
       "    }\n",
       "\n",
       "    .dataframe tbody tr th {\n",
       "        vertical-align: top;\n",
       "    }\n",
       "\n",
       "    .dataframe thead th {\n",
       "        text-align: right;\n",
       "    }\n",
       "</style>\n",
       "<table border=\"1\" class=\"dataframe\">\n",
       "  <thead>\n",
       "    <tr style=\"text-align: right;\">\n",
       "      <th></th>\n",
       "      <th>dialogue_id</th>\n",
       "      <th>actual_sentiment</th>\n",
       "      <th>generated_sentiment</th>\n",
       "    </tr>\n",
       "  </thead>\n",
       "  <tbody>\n",
       "    <tr>\n",
       "      <th>0</th>\n",
       "      <td>3816</td>\n",
       "      <td>neutral</td>\n",
       "      <td>positive</td>\n",
       "    </tr>\n",
       "    <tr>\n",
       "      <th>1</th>\n",
       "      <td>3</td>\n",
       "      <td>positive</td>\n",
       "      <td>positive</td>\n",
       "    </tr>\n",
       "    <tr>\n",
       "      <th>2</th>\n",
       "      <td>4</td>\n",
       "      <td>negative</td>\n",
       "      <td>positive</td>\n",
       "    </tr>\n",
       "    <tr>\n",
       "      <th>3</th>\n",
       "      <td>5</td>\n",
       "      <td>positive</td>\n",
       "      <td>positive</td>\n",
       "    </tr>\n",
       "    <tr>\n",
       "      <th>4</th>\n",
       "      <td>6</td>\n",
       "      <td>positive</td>\n",
       "      <td>positive</td>\n",
       "    </tr>\n",
       "  </tbody>\n",
       "</table>\n",
       "</div>"
      ],
      "text/plain": [
       "   dialogue_id actual_sentiment generated_sentiment\n",
       "0         3816          neutral            positive\n",
       "1            3         positive            positive\n",
       "2            4         negative            positive\n",
       "3            5         positive            positive\n",
       "4            6         positive            positive"
      ]
     },
     "execution_count": 16,
     "metadata": {},
     "output_type": "execute_result"
    }
   ],
   "source": [
    "conf_mat_falcon = pd.merge(train_df[[\"dialogue_id\", \"actual_sentiment\"]],\n",
    "                        falcon_sentiment[[\"dialogue_id\", \"generated_sentiment\"]],\n",
    "                        on=\"dialogue_id\",\n",
    "                        how=\"inner\")\n",
    "conf_mat_falcon.head()"
   ]
  },
  {
   "cell_type": "code",
   "execution_count": 17,
   "metadata": {},
   "outputs": [
    {
     "data": {
      "image/png": "[encoded data removed]",
      "text/plain": [
       "<Figure size 1000x700 with 2 Axes>"
      ]
     },
     "metadata": {},
     "output_type": "display_data"
    }
   ],
   "source": [
    "# Assuming binary_actual and binary_generated are your true and predicted labels converted to binary (if needed)\n",
    "# For multi-class:\n",
    "conf_matrix4 = confusion_matrix(conf_mat_falcon['actual_sentiment'], conf_mat_falcon['generated_sentiment'])\n",
    "\n",
    "# Plotting the confusion matrix\n",
    "plt.figure(figsize=(10, 7))\n",
    "sns.heatmap(conf_matrix4, annot=True, fmt='d', cmap=\"Greens\",\n",
    "            xticklabels=['Negative', 'Neutral', 'Positive'],\n",
    "            yticklabels=['Negative', 'Neutral', 'Positive'])\n",
    "plt.xlabel('Predicted Sentiment')\n",
    "plt.ylabel('True Sentiment')\n",
    "plt.title('Sentiment Confusion Matrix: Falcon', fontsize=16, pad=14)\n",
    "plt.show()"
   ]
  },
  {
   "cell_type": "code",
   "execution_count": 18,
   "metadata": {},
   "outputs": [
    {
     "name": "stdout",
     "output_type": "stream",
     "text": [
      "Overall accuracy: 0.583\n"
     ]
    }
   ],
   "source": [
    "accuracy_falcon = accuracy_score(conf_mat_falcon[\"actual_sentiment\"], conf_mat_falcon[\"generated_sentiment\"])\n",
    "print(f\"Overall accuracy: {accuracy_falcon:.3f}\")"
   ]
  },
  {
   "cell_type": "code",
   "execution_count": 19,
   "metadata": {},
   "outputs": [
    {
     "name": "stdout",
     "output_type": "stream",
     "text": [
      "Falcon F1 Score: 0.554\n"
     ]
    }
   ],
   "source": [
    "from sklearn.metrics import f1_score\n",
    "\n",
    "# Calculate F1 score\n",
    "falcon_f1 = f1_score(conf_mat_falcon[\"actual_sentiment\"], conf_mat_falcon[\"generated_sentiment\"], average='weighted')\n",
    "\n",
    "print(f\"Falcon F1 Score: {falcon_f1:.3f}\")"
   ]
  },
  {
   "cell_type": "markdown",
   "metadata": {},
   "source": [
    "DeciLM 7b Confusion Matrix and Accuracy"
   ]
  },
  {
   "cell_type": "code",
   "execution_count": 20,
   "metadata": {},
   "outputs": [
    {
     "data": {
      "text/html": [
       "<div>\n",
       "<style scoped>\n",
       "    .dataframe tbody tr th:only-of-type {\n",
       "        vertical-align: middle;\n",
       "    }\n",
       "\n",
       "    .dataframe tbody tr th {\n",
       "        vertical-align: top;\n",
       "    }\n",
       "\n",
       "    .dataframe thead th {\n",
       "        text-align: right;\n",
       "    }\n",
       "</style>\n",
       "<table border=\"1\" class=\"dataframe\">\n",
       "  <thead>\n",
       "    <tr style=\"text-align: right;\">\n",
       "      <th></th>\n",
       "      <th>sentiment_id</th>\n",
       "      <th>dialogue_id</th>\n",
       "      <th>model_id</th>\n",
       "      <th>generated_sentiment</th>\n",
       "      <th>memory_sentiment_usage</th>\n",
       "      <th>time_sentiment_taken</th>\n",
       "    </tr>\n",
       "  </thead>\n",
       "  <tbody>\n",
       "    <tr>\n",
       "      <th>0</th>\n",
       "      <td>50709</td>\n",
       "      <td>3816</td>\n",
       "      <td>deciLM 7b</td>\n",
       "      <td>positive</td>\n",
       "      <td>27177.072266</td>\n",
       "      <td>0.348379</td>\n",
       "    </tr>\n",
       "    <tr>\n",
       "      <th>1</th>\n",
       "      <td>50710</td>\n",
       "      <td>3</td>\n",
       "      <td>deciLM 7b</td>\n",
       "      <td>positive</td>\n",
       "      <td>27200.726074</td>\n",
       "      <td>0.281281</td>\n",
       "    </tr>\n",
       "    <tr>\n",
       "      <th>2</th>\n",
       "      <td>50711</td>\n",
       "      <td>4</td>\n",
       "      <td>deciLM 7b</td>\n",
       "      <td>negative</td>\n",
       "      <td>27200.142090</td>\n",
       "      <td>0.280755</td>\n",
       "    </tr>\n",
       "    <tr>\n",
       "      <th>3</th>\n",
       "      <td>50712</td>\n",
       "      <td>5</td>\n",
       "      <td>deciLM 7b</td>\n",
       "      <td>positive</td>\n",
       "      <td>27197.362793</td>\n",
       "      <td>0.283687</td>\n",
       "    </tr>\n",
       "    <tr>\n",
       "      <th>4</th>\n",
       "      <td>50713</td>\n",
       "      <td>6</td>\n",
       "      <td>deciLM 7b</td>\n",
       "      <td>positive</td>\n",
       "      <td>27177.364258</td>\n",
       "      <td>0.213981</td>\n",
       "    </tr>\n",
       "  </tbody>\n",
       "</table>\n",
       "</div>"
      ],
      "text/plain": [
       "   sentiment_id  dialogue_id   model_id generated_sentiment  \\\n",
       "0         50709         3816  deciLM 7b            positive   \n",
       "1         50710            3  deciLM 7b            positive   \n",
       "2         50711            4  deciLM 7b            negative   \n",
       "3         50712            5  deciLM 7b            positive   \n",
       "4         50713            6  deciLM 7b            positive   \n",
       "\n",
       "   memory_sentiment_usage  time_sentiment_taken  \n",
       "0            27177.072266              0.348379  \n",
       "1            27200.726074              0.281281  \n",
       "2            27200.142090              0.280755  \n",
       "3            27197.362793              0.283687  \n",
       "4            27177.364258              0.213981  "
      ]
     },
     "execution_count": 20,
     "metadata": {},
     "output_type": "execute_result"
    }
   ],
   "source": [
    "deci_sentiment = get_model_sentiment_data('deciLM 7b')\n",
    "deci_sentiment.head()"
   ]
  },
  {
   "cell_type": "code",
   "execution_count": 21,
   "metadata": {},
   "outputs": [
    {
     "data": {
      "text/html": [
       "<div>\n",
       "<style scoped>\n",
       "    .dataframe tbody tr th:only-of-type {\n",
       "        vertical-align: middle;\n",
       "    }\n",
       "\n",
       "    .dataframe tbody tr th {\n",
       "        vertical-align: top;\n",
       "    }\n",
       "\n",
       "    .dataframe thead th {\n",
       "        text-align: right;\n",
       "    }\n",
       "</style>\n",
       "<table border=\"1\" class=\"dataframe\">\n",
       "  <thead>\n",
       "    <tr style=\"text-align: right;\">\n",
       "      <th></th>\n",
       "      <th>dialogue_id</th>\n",
       "      <th>actual_sentiment</th>\n",
       "      <th>generated_sentiment</th>\n",
       "    </tr>\n",
       "  </thead>\n",
       "  <tbody>\n",
       "    <tr>\n",
       "      <th>0</th>\n",
       "      <td>3816</td>\n",
       "      <td>neutral</td>\n",
       "      <td>positive</td>\n",
       "    </tr>\n",
       "    <tr>\n",
       "      <th>1</th>\n",
       "      <td>3</td>\n",
       "      <td>positive</td>\n",
       "      <td>positive</td>\n",
       "    </tr>\n",
       "    <tr>\n",
       "      <th>2</th>\n",
       "      <td>4</td>\n",
       "      <td>negative</td>\n",
       "      <td>negative</td>\n",
       "    </tr>\n",
       "    <tr>\n",
       "      <th>3</th>\n",
       "      <td>5</td>\n",
       "      <td>positive</td>\n",
       "      <td>positive</td>\n",
       "    </tr>\n",
       "    <tr>\n",
       "      <th>4</th>\n",
       "      <td>6</td>\n",
       "      <td>positive</td>\n",
       "      <td>positive</td>\n",
       "    </tr>\n",
       "  </tbody>\n",
       "</table>\n",
       "</div>"
      ],
      "text/plain": [
       "   dialogue_id actual_sentiment generated_sentiment\n",
       "0         3816          neutral            positive\n",
       "1            3         positive            positive\n",
       "2            4         negative            negative\n",
       "3            5         positive            positive\n",
       "4            6         positive            positive"
      ]
     },
     "execution_count": 21,
     "metadata": {},
     "output_type": "execute_result"
    }
   ],
   "source": [
    "conf_mat_deci = pd.merge(train_df[[\"dialogue_id\", \"actual_sentiment\"]],\n",
    "                        deci_sentiment[[\"dialogue_id\", \"generated_sentiment\"]],\n",
    "                        on=\"dialogue_id\",\n",
    "                        how=\"inner\")\n",
    "conf_mat_deci.head()"
   ]
  },
  {
   "cell_type": "code",
   "execution_count": 22,
   "metadata": {},
   "outputs": [
    {
     "data": {
      "image/png": "[encoded data removed]",
      "text/plain": [
       "<Figure size 1000x700 with 2 Axes>"
      ]
     },
     "metadata": {},
     "output_type": "display_data"
    }
   ],
   "source": [
    "# Assuming binary_actual and binary_generated are your true and predicted labels converted to binary (if needed)\n",
    "# For multi-class:\n",
    "conf_matrix5 = confusion_matrix(conf_mat_deci['actual_sentiment'], conf_mat_deci['generated_sentiment'])\n",
    "\n",
    "# Plotting the confusion matrix\n",
    "plt.figure(figsize=(10, 7))\n",
    "sns.heatmap(conf_matrix5, annot=True, fmt='d', cmap=\"Greens\",\n",
    "            xticklabels=['Negative', 'Neutral', 'Positive'],\n",
    "            yticklabels=['Negative', 'Neutral', 'Positive'])\n",
    "plt.xlabel('Predicted Sentiment')\n",
    "plt.ylabel('True Sentiment')\n",
    "plt.title('Sentiment Confusion Matrix: DeciLM', fontsize=16, pad=14)\n",
    "plt.show()"
   ]
  },
  {
   "cell_type": "code",
   "execution_count": 23,
   "metadata": {},
   "outputs": [
    {
     "name": "stdout",
     "output_type": "stream",
     "text": [
      "Overall accuracy: 0.613\n"
     ]
    }
   ],
   "source": [
    "accuracy_deci = accuracy_score(conf_mat_deci[\"actual_sentiment\"], conf_mat_deci[\"generated_sentiment\"])\n",
    "print(f\"Overall accuracy: {accuracy_deci:.3f}\")"
   ]
  },
  {
   "cell_type": "code",
   "execution_count": 24,
   "metadata": {},
   "outputs": [
    {
     "name": "stdout",
     "output_type": "stream",
     "text": [
      "Falcon F1 Score: 0.571\n"
     ]
    }
   ],
   "source": [
    "from sklearn.metrics import f1_score\n",
    "\n",
    "# Calculate F1 score\n",
    "deci_f1 = f1_score(conf_mat_deci[\"actual_sentiment\"], conf_mat_deci[\"generated_sentiment\"], average='weighted')\n",
    "\n",
    "print(f\"Falcon F1 Score: {deci_f1:.3f}\")"
   ]
  },
  {
   "cell_type": "markdown",
   "metadata": {},
   "source": [
    "Orca 2 7b Confusion Matrix & Accuracy"
   ]
  },
  {
   "cell_type": "code",
   "execution_count": 25,
   "metadata": {},
   "outputs": [
    {
     "data": {
      "text/html": [
       "<div>\n",
       "<style scoped>\n",
       "    .dataframe tbody tr th:only-of-type {\n",
       "        vertical-align: middle;\n",
       "    }\n",
       "\n",
       "    .dataframe tbody tr th {\n",
       "        vertical-align: top;\n",
       "    }\n",
       "\n",
       "    .dataframe thead th {\n",
       "        text-align: right;\n",
       "    }\n",
       "</style>\n",
       "<table border=\"1\" class=\"dataframe\">\n",
       "  <thead>\n",
       "    <tr style=\"text-align: right;\">\n",
       "      <th></th>\n",
       "      <th>sentiment_id</th>\n",
       "      <th>dialogue_id</th>\n",
       "      <th>model_id</th>\n",
       "      <th>generated_sentiment</th>\n",
       "      <th>memory_sentiment_usage</th>\n",
       "      <th>time_sentiment_taken</th>\n",
       "    </tr>\n",
       "  </thead>\n",
       "  <tbody>\n",
       "    <tr>\n",
       "      <th>0</th>\n",
       "      <td>63136</td>\n",
       "      <td>3816</td>\n",
       "      <td>orca2 7b</td>\n",
       "      <td>positive</td>\n",
       "      <td>26041.963379</td>\n",
       "      <td>0.353360</td>\n",
       "    </tr>\n",
       "    <tr>\n",
       "      <th>1</th>\n",
       "      <td>63137</td>\n",
       "      <td>3</td>\n",
       "      <td>orca2 7b</td>\n",
       "      <td>positive</td>\n",
       "      <td>26204.654785</td>\n",
       "      <td>0.270215</td>\n",
       "    </tr>\n",
       "    <tr>\n",
       "      <th>2</th>\n",
       "      <td>63138</td>\n",
       "      <td>4</td>\n",
       "      <td>orca2 7b</td>\n",
       "      <td>negative</td>\n",
       "      <td>26202.532715</td>\n",
       "      <td>0.269059</td>\n",
       "    </tr>\n",
       "    <tr>\n",
       "      <th>3</th>\n",
       "      <td>63139</td>\n",
       "      <td>5</td>\n",
       "      <td>orca2 7b</td>\n",
       "      <td>positive</td>\n",
       "      <td>26185.696777</td>\n",
       "      <td>0.270434</td>\n",
       "    </tr>\n",
       "    <tr>\n",
       "      <th>4</th>\n",
       "      <td>63140</td>\n",
       "      <td>6</td>\n",
       "      <td>orca2 7b</td>\n",
       "      <td>positive</td>\n",
       "      <td>26041.932129</td>\n",
       "      <td>0.200529</td>\n",
       "    </tr>\n",
       "  </tbody>\n",
       "</table>\n",
       "</div>"
      ],
      "text/plain": [
       "   sentiment_id  dialogue_id  model_id generated_sentiment  \\\n",
       "0         63136         3816  orca2 7b            positive   \n",
       "1         63137            3  orca2 7b            positive   \n",
       "2         63138            4  orca2 7b            negative   \n",
       "3         63139            5  orca2 7b            positive   \n",
       "4         63140            6  orca2 7b            positive   \n",
       "\n",
       "   memory_sentiment_usage  time_sentiment_taken  \n",
       "0            26041.963379              0.353360  \n",
       "1            26204.654785              0.270215  \n",
       "2            26202.532715              0.269059  \n",
       "3            26185.696777              0.270434  \n",
       "4            26041.932129              0.200529  "
      ]
     },
     "execution_count": 25,
     "metadata": {},
     "output_type": "execute_result"
    }
   ],
   "source": [
    "orca_sentiment = get_model_sentiment_data('orca2 7b')\n",
    "orca_sentiment.head()"
   ]
  },
  {
   "cell_type": "code",
   "execution_count": 26,
   "metadata": {},
   "outputs": [
    {
     "data": {
      "text/html": [
       "<div>\n",
       "<style scoped>\n",
       "    .dataframe tbody tr th:only-of-type {\n",
       "        vertical-align: middle;\n",
       "    }\n",
       "\n",
       "    .dataframe tbody tr th {\n",
       "        vertical-align: top;\n",
       "    }\n",
       "\n",
       "    .dataframe thead th {\n",
       "        text-align: right;\n",
       "    }\n",
       "</style>\n",
       "<table border=\"1\" class=\"dataframe\">\n",
       "  <thead>\n",
       "    <tr style=\"text-align: right;\">\n",
       "      <th></th>\n",
       "      <th>dialogue_id</th>\n",
       "      <th>actual_sentiment</th>\n",
       "      <th>generated_sentiment</th>\n",
       "    </tr>\n",
       "  </thead>\n",
       "  <tbody>\n",
       "    <tr>\n",
       "      <th>0</th>\n",
       "      <td>3816</td>\n",
       "      <td>neutral</td>\n",
       "      <td>positive</td>\n",
       "    </tr>\n",
       "    <tr>\n",
       "      <th>1</th>\n",
       "      <td>3</td>\n",
       "      <td>positive</td>\n",
       "      <td>positive</td>\n",
       "    </tr>\n",
       "    <tr>\n",
       "      <th>2</th>\n",
       "      <td>4</td>\n",
       "      <td>negative</td>\n",
       "      <td>negative</td>\n",
       "    </tr>\n",
       "    <tr>\n",
       "      <th>3</th>\n",
       "      <td>5</td>\n",
       "      <td>positive</td>\n",
       "      <td>positive</td>\n",
       "    </tr>\n",
       "    <tr>\n",
       "      <th>4</th>\n",
       "      <td>6</td>\n",
       "      <td>positive</td>\n",
       "      <td>positive</td>\n",
       "    </tr>\n",
       "  </tbody>\n",
       "</table>\n",
       "</div>"
      ],
      "text/plain": [
       "   dialogue_id actual_sentiment generated_sentiment\n",
       "0         3816          neutral            positive\n",
       "1            3         positive            positive\n",
       "2            4         negative            negative\n",
       "3            5         positive            positive\n",
       "4            6         positive            positive"
      ]
     },
     "execution_count": 26,
     "metadata": {},
     "output_type": "execute_result"
    }
   ],
   "source": [
    "conf_mat_orca = pd.merge(train_df[[\"dialogue_id\", \"actual_sentiment\"]],\n",
    "                        orca_sentiment[[\"dialogue_id\", \"generated_sentiment\"]],\n",
    "                        on=\"dialogue_id\",\n",
    "                        how=\"inner\")\n",
    "conf_mat_orca.head()"
   ]
  },
  {
   "cell_type": "code",
   "execution_count": 27,
   "metadata": {},
   "outputs": [
    {
     "data": {
      "image/png": "[encoded data removed]",
      "text/plain": [
       "<Figure size 1000x700 with 2 Axes>"
      ]
     },
     "metadata": {},
     "output_type": "display_data"
    }
   ],
   "source": [
    "# Assuming binary_actual and binary_generated are your true and predicted labels converted to binary (if needed)\n",
    "# For multi-class:\n",
    "conf_matrix6 = confusion_matrix(conf_mat_orca['actual_sentiment'], conf_mat_orca['generated_sentiment'])\n",
    "\n",
    "# Plotting the confusion matrix\n",
    "plt.figure(figsize=(10, 7))\n",
    "sns.heatmap(conf_matrix6, annot=True, fmt='d', cmap=\"Greens\",\n",
    "            xticklabels=['Negative', 'Neutral', 'Positive'],\n",
    "            yticklabels=['Negative', 'Neutral', 'Positive'])\n",
    "plt.xlabel('Predicted Sentiment')\n",
    "plt.ylabel('True Sentiment')\n",
    "plt.title('Sentiment Confusion Matrix: Orca 2', fontsize=16, pad=14)\n",
    "plt.show()"
   ]
  },
  {
   "cell_type": "code",
   "execution_count": 28,
   "metadata": {},
   "outputs": [
    {
     "name": "stdout",
     "output_type": "stream",
     "text": [
      "Overall accuracy: 0.661\n"
     ]
    }
   ],
   "source": [
    "accuracy_orca = accuracy_score(conf_mat_orca[\"actual_sentiment\"], conf_mat_orca[\"generated_sentiment\"])\n",
    "print(f\"Overall accuracy: {accuracy_orca:.3f}\")"
   ]
  },
  {
   "cell_type": "code",
   "execution_count": 29,
   "metadata": {},
   "outputs": [
    {
     "name": "stdout",
     "output_type": "stream",
     "text": [
      "Falcon F1 Score: 0.634\n"
     ]
    }
   ],
   "source": [
    "from sklearn.metrics import f1_score\n",
    "\n",
    "# Calculate F1 score\n",
    "orca_f1 = f1_score(conf_mat_orca[\"actual_sentiment\"], conf_mat_orca[\"generated_sentiment\"], average='weighted')\n",
    "\n",
    "print(f\"Falcon F1 Score: {orca_f1:.3f}\")"
   ]
  },
  {
   "cell_type": "code",
   "execution_count": 30,
   "metadata": {},
   "outputs": [
    {
     "data": {
      "text/html": [
       "<div>\n",
       "<style scoped>\n",
       "    .dataframe tbody tr th:only-of-type {\n",
       "        vertical-align: middle;\n",
       "    }\n",
       "\n",
       "    .dataframe tbody tr th {\n",
       "        vertical-align: top;\n",
       "    }\n",
       "\n",
       "    .dataframe thead th {\n",
       "        text-align: right;\n",
       "    }\n",
       "</style>\n",
       "<table border=\"1\" class=\"dataframe\">\n",
       "  <thead>\n",
       "    <tr style=\"text-align: right;\">\n",
       "      <th></th>\n",
       "      <th>LLM Model</th>\n",
       "      <th>Accuracy Score</th>\n",
       "    </tr>\n",
       "  </thead>\n",
       "  <tbody>\n",
       "    <tr>\n",
       "      <th>1</th>\n",
       "      <td>gemma 7b</td>\n",
       "      <td>0.541643</td>\n",
       "    </tr>\n",
       "    <tr>\n",
       "      <th>2</th>\n",
       "      <td>llama 3 8b</td>\n",
       "      <td>0.579062</td>\n",
       "    </tr>\n",
       "    <tr>\n",
       "      <th>3</th>\n",
       "      <td>falcon 7b</td>\n",
       "      <td>0.582683</td>\n",
       "    </tr>\n",
       "    <tr>\n",
       "      <th>0</th>\n",
       "      <td>mistral 7b</td>\n",
       "      <td>0.587752</td>\n",
       "    </tr>\n",
       "    <tr>\n",
       "      <th>4</th>\n",
       "      <td>deciLM 7b</td>\n",
       "      <td>0.613020</td>\n",
       "    </tr>\n",
       "  </tbody>\n",
       "</table>\n",
       "</div>"
      ],
      "text/plain": [
       "    LLM Model  Accuracy Score\n",
       "1    gemma 7b        0.541643\n",
       "2  llama 3 8b        0.579062\n",
       "3   falcon 7b        0.582683\n",
       "0  mistral 7b        0.587752\n",
       "4   deciLM 7b        0.613020"
      ]
     },
     "execution_count": 30,
     "metadata": {},
     "output_type": "execute_result"
    }
   ],
   "source": [
    "bar_df = pd.DataFrame({'mistral 7b': [accuracy_mistral], 'gemma 7b': [accuracy_gemma], 'llama 3 8b':[accuracy_llama3], 'falcon 7b':[accuracy_falcon], 'deciLM 7b':[accuracy_deci], 'orca2 7b':[accuracy_orca]})\n",
    "bar_df = bar_df.melt(var_name='LLM Model', value_name='Accuracy Score')\n",
    "bar_df = bar_df.sort_values('Accuracy Score', ascending=True)\n",
    "bar_df.head()"
   ]
  },
  {
   "cell_type": "code",
   "execution_count": 31,
   "metadata": {},
   "outputs": [
    {
     "name": "stderr",
     "output_type": "stream",
     "text": [
      "C:\\Users\\AViey\\AppData\\Local\\Temp\\ipykernel_30148\\251473660.py:2: FutureWarning: \n",
      "\n",
      "Passing `palette` without assigning `hue` is deprecated and will be removed in v0.14.0. Assign the `x` variable to `hue` and set `legend=False` for the same effect.\n",
      "\n",
      "  sns.barplot(\n"
     ]
    },
    {
     "data": {
      "image/png": "[encoded data removed]",
      "text/plain": [
       "<Figure size 640x480 with 1 Axes>"
      ]
     },
     "metadata": {},
     "output_type": "display_data"
    }
   ],
   "source": [
    "colors = {'mistral 7b': 'blue', 'gemma 7b': 'green', 'llama 3 8b': 'red', 'falcon 7b':'yellow', 'deciLM 7b':'purple', 'orca2 7b':'orange'}\n",
    "sns.barplot(\n",
    "    x = \"LLM Model\",\n",
    "    y = \"Accuracy Score\",\n",
    "    data = bar_df,\n",
    "    palette=colors\n",
    ")\n",
    "\n",
    "plt.show()"
   ]
  },
  {
   "cell_type": "code",
   "execution_count": 32,
   "metadata": {},
   "outputs": [
    {
     "data": {
      "text/html": [
       "<div>\n",
       "<style scoped>\n",
       "    .dataframe tbody tr th:only-of-type {\n",
       "        vertical-align: middle;\n",
       "    }\n",
       "\n",
       "    .dataframe tbody tr th {\n",
       "        vertical-align: top;\n",
       "    }\n",
       "\n",
       "    .dataframe thead th {\n",
       "        text-align: right;\n",
       "    }\n",
       "</style>\n",
       "<table border=\"1\" class=\"dataframe\">\n",
       "  <thead>\n",
       "    <tr style=\"text-align: right;\">\n",
       "      <th></th>\n",
       "      <th>LLM Model</th>\n",
       "      <th>Time Taken Per Row</th>\n",
       "    </tr>\n",
       "  </thead>\n",
       "  <tbody>\n",
       "    <tr>\n",
       "      <th>2</th>\n",
       "      <td>falcon 7b</td>\n",
       "      <td>0.302629</td>\n",
       "    </tr>\n",
       "    <tr>\n",
       "      <th>4</th>\n",
       "      <td>orca2 7b</td>\n",
       "      <td>0.314167</td>\n",
       "    </tr>\n",
       "    <tr>\n",
       "      <th>3</th>\n",
       "      <td>deciLM 7b</td>\n",
       "      <td>0.326180</td>\n",
       "    </tr>\n",
       "    <tr>\n",
       "      <th>0</th>\n",
       "      <td>gemma 7b</td>\n",
       "      <td>1.086109</td>\n",
       "    </tr>\n",
       "    <tr>\n",
       "      <th>1</th>\n",
       "      <td>llama 3 8b</td>\n",
       "      <td>2.882407</td>\n",
       "    </tr>\n",
       "  </tbody>\n",
       "</table>\n",
       "</div>"
      ],
      "text/plain": [
       "    LLM Model  Time Taken Per Row\n",
       "2   falcon 7b            0.302629\n",
       "4    orca2 7b            0.314167\n",
       "3   deciLM 7b            0.326180\n",
       "0    gemma 7b            1.086109\n",
       "1  llama 3 8b            2.882407"
      ]
     },
     "execution_count": 32,
     "metadata": {},
     "output_type": "execute_result"
    }
   ],
   "source": [
    "bar_df2 = pd.DataFrame({'gemma 7b': [sum(gemma_sentiment['time_sentiment_taken']) / 12427], 'llama 3 8b':[sum(llama3_sentiment[\"time_sentiment_taken\"]) / 12427],  'falcon 7b':[sum(falcon_sentiment[\"time_sentiment_taken\"]) / 12427],\n",
    "                        'deciLM 7b':[sum(deci_sentiment['time_sentiment_taken']) / 12427], 'orca2 7b':[sum(orca_sentiment['time_sentiment_taken']) / 12427]})\n",
    "bar_df2 = bar_df2.melt(var_name='LLM Model', value_name='Time Taken Per Row')\n",
    "bar_df2 = bar_df2.sort_values('Time Taken Per Row', ascending=True)\n",
    "bar_df2.head()"
   ]
  },
  {
   "cell_type": "code",
   "execution_count": 33,
   "metadata": {},
   "outputs": [
    {
     "name": "stderr",
     "output_type": "stream",
     "text": [
      "C:\\Users\\AViey\\AppData\\Local\\Temp\\ipykernel_30148\\3636765293.py:1: FutureWarning: \n",
      "\n",
      "Passing `palette` without assigning `hue` is deprecated and will be removed in v0.14.0. Assign the `x` variable to `hue` and set `legend=False` for the same effect.\n",
      "\n",
      "  sns.barplot(\n"
     ]
    },
    {
     "data": {
      "image/png": "[encoded data removed]",
      "text/plain": [
       "<Figure size 640x480 with 1 Axes>"
      ]
     },
     "metadata": {},
     "output_type": "display_data"
    }
   ],
   "source": [
    "sns.barplot(\n",
    "    x = \"LLM Model\",\n",
    "    y = \"Time Taken Per Row\",\n",
    "    data = bar_df2,\n",
    "    palette=colors\n",
    ")\n",
    "\n",
    "plt.show()"
   ]
  },
  {
   "cell_type": "code",
   "execution_count": 34,
   "metadata": {},
   "outputs": [
    {
     "data": {
      "text/html": [
       "<div>\n",
       "<style scoped>\n",
       "    .dataframe tbody tr th:only-of-type {\n",
       "        vertical-align: middle;\n",
       "    }\n",
       "\n",
       "    .dataframe tbody tr th {\n",
       "        vertical-align: top;\n",
       "    }\n",
       "\n",
       "    .dataframe thead th {\n",
       "        text-align: right;\n",
       "    }\n",
       "</style>\n",
       "<table border=\"1\" class=\"dataframe\">\n",
       "  <thead>\n",
       "    <tr style=\"text-align: right;\">\n",
       "      <th></th>\n",
       "      <th>Mistral</th>\n",
       "      <th>Gemma</th>\n",
       "      <th>Llama3</th>\n",
       "      <th>Falcon</th>\n",
       "      <th>DeciLM</th>\n",
       "      <th>Orca 2</th>\n",
       "    </tr>\n",
       "  </thead>\n",
       "  <tbody>\n",
       "    <tr>\n",
       "      <th>0</th>\n",
       "      <td>neutral</td>\n",
       "      <td>positive</td>\n",
       "      <td>positive</td>\n",
       "      <td>positive</td>\n",
       "      <td>positive</td>\n",
       "      <td>positive</td>\n",
       "    </tr>\n",
       "    <tr>\n",
       "      <th>1</th>\n",
       "      <td>neutral</td>\n",
       "      <td>positive</td>\n",
       "      <td>positive</td>\n",
       "      <td>positive</td>\n",
       "      <td>positive</td>\n",
       "      <td>positive</td>\n",
       "    </tr>\n",
       "    <tr>\n",
       "      <th>2</th>\n",
       "      <td>positive</td>\n",
       "      <td>neutral</td>\n",
       "      <td>neutral</td>\n",
       "      <td>positive</td>\n",
       "      <td>negative</td>\n",
       "      <td>negative</td>\n",
       "    </tr>\n",
       "    <tr>\n",
       "      <th>3</th>\n",
       "      <td>negative</td>\n",
       "      <td>positive</td>\n",
       "      <td>positive</td>\n",
       "      <td>positive</td>\n",
       "      <td>positive</td>\n",
       "      <td>positive</td>\n",
       "    </tr>\n",
       "    <tr>\n",
       "      <th>4</th>\n",
       "      <td>positive</td>\n",
       "      <td>positive</td>\n",
       "      <td>positive</td>\n",
       "      <td>positive</td>\n",
       "      <td>positive</td>\n",
       "      <td>positive</td>\n",
       "    </tr>\n",
       "  </tbody>\n",
       "</table>\n",
       "</div>"
      ],
      "text/plain": [
       "    Mistral     Gemma    Llama3    Falcon    DeciLM    Orca 2\n",
       "0   neutral  positive  positive  positive  positive  positive\n",
       "1   neutral  positive  positive  positive  positive  positive\n",
       "2  positive   neutral   neutral  positive  negative  negative\n",
       "3  negative  positive  positive  positive  positive  positive\n",
       "4  positive  positive  positive  positive  positive  positive"
      ]
     },
     "execution_count": 34,
     "metadata": {},
     "output_type": "execute_result"
    }
   ],
   "source": [
    "stacked_bar = pd.DataFrame({\n",
    "    'Mistral': mistral_sentiment[\"generated_sentiment\"], \n",
    "    'Gemma': gemma_sentiment[\"generated_sentiment\"], \n",
    "    'Llama3': llama3_sentiment[\"generated_sentiment\"],\n",
    "    'Falcon': falcon_sentiment[\"generated_sentiment\"],\n",
    "    'DeciLM':deci_sentiment[\"generated_sentiment\"],\n",
    "    'Orca 2': orca_sentiment[\"generated_sentiment\"]\n",
    "    })\n",
    "stacked_bar.head()"
   ]
  },
  {
   "cell_type": "code",
   "execution_count": 35,
   "metadata": {},
   "outputs": [
    {
     "name": "stdout",
     "output_type": "stream",
     "text": [
      "          Mistral  Gemma  Llama3  Falcon  DeciLM  Orca 2\n",
      "positive     4702   5956    6362    9005    8315    8917\n",
      "negative     1466   4474      95    1038     132    1363\n",
      "neutral      6259   1997    5970    2384    3980    2147\n"
     ]
    }
   ],
   "source": [
    "data = {\n",
    "    'Mistral': stacked_bar[\"Mistral\"].value_counts(),\n",
    "    'Gemma': stacked_bar[\"Gemma\"].value_counts(),\n",
    "    'Llama3': stacked_bar[\"Llama3\"].value_counts(),\n",
    "    'Falcon':stacked_bar['Falcon'].value_counts(),\n",
    "    'DeciLM':stacked_bar['DeciLM'].value_counts(),\n",
    "    'Orca 2': stacked_bar['Orca 2'].value_counts()\n",
    "}\n",
    "\n",
    "all_categories = ['positive', 'negative', 'neutral']  # add other categories as necessary\n",
    "stacked_bar = pd.DataFrame(data).reindex(all_categories).fillna(0)\n",
    "\n",
    "print(stacked_bar)\n"
   ]
  },
  {
   "cell_type": "code",
   "execution_count": 39,
   "metadata": {},
   "outputs": [
    {
     "data": {
      "image/png": "[encoded data removed]",
      "text/plain": [
       "<Figure size 1000x700 with 1 Axes>"
      ]
     },
     "metadata": {},
     "output_type": "display_data"
    }
   ],
   "source": [
    "colors = ['#1f77b4', '#ff7f0e', '#2ca02c', '#d62728', '#9467bd']\n",
    "ax = stacked_bar.plot(kind='bar', stacked=True, figsize=(10, 7), color = colors)\n",
    "ax.set_ylabel('Count of Sentiments')\n",
    "ax.set_title('Sentiment Counts by Model')\n",
    "plt.legend(title='Models')\n",
    "plt.show()\n"
   ]
  }
 ],
 "metadata": {
  "kernelspec": {
   "display_name": "Python 3",
   "language": "python",
   "name": "python3"
  },
  "language_info": {
   "codemirror_mode": {
    "name": "ipython",
    "version": 3
   },
   "file_extension": ".py",
   "mimetype": "text/x-python",
   "name": "python",
   "nbconvert_exporter": "python",
   "pygments_lexer": "ipython3",
   "version": "3.11.1"
  }
 },
 "nbformat": 4,
 "nbformat_minor": 2
}
