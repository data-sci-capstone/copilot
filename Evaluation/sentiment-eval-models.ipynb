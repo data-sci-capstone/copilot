{
 "cells": [
  {
   "cell_type": "code",
   "execution_count": 15,
   "metadata": {},
   "outputs": [],
   "source": [
    "# import os + os.chir is used to get to the llms directory to use the usermodules \n",
    "import os\n",
    "os.chdir('C:/Users/AViey/OneDrive/Documents/College/UCI/Stats/stats170a/copilot/copilot/llms/user_modules') \n",
    "\n",
    "from sklearn.metrics import confusion_matrix\n",
    "import seaborn as sns\n",
    "import matplotlib.pyplot as plt\n",
    "from  db import Session, get_training_data, get_model_sentiment_data, add_sentiment_evaluation_data\n",
    "from table_instances import SentimentEvaluation\n",
    "import pandas as pd\n",
    "from sklearn.metrics import accuracy_score\n",
    "\n",
    "session = Session()"
   ]
  },
  {
   "cell_type": "markdown",
   "metadata": {},
   "source": [
    "Gather Data from different models plus the training data"
   ]
  },
  {
   "cell_type": "code",
   "execution_count": 4,
   "metadata": {},
   "outputs": [
    {
     "data": {
      "text/html": [
       "<div>\n",
       "<style scoped>\n",
       "    .dataframe tbody tr th:only-of-type {\n",
       "        vertical-align: middle;\n",
       "    }\n",
       "\n",
       "    .dataframe tbody tr th {\n",
       "        vertical-align: top;\n",
       "    }\n",
       "\n",
       "    .dataframe thead th {\n",
       "        text-align: right;\n",
       "    }\n",
       "</style>\n",
       "<table border=\"1\" class=\"dataframe\">\n",
       "  <thead>\n",
       "    <tr style=\"text-align: right;\">\n",
       "      <th></th>\n",
       "      <th>dialogue_id</th>\n",
       "      <th>dataset</th>\n",
       "      <th>dialogue_text</th>\n",
       "      <th>actual_summary</th>\n",
       "      <th>actual_sentiment</th>\n",
       "    </tr>\n",
       "  </thead>\n",
       "  <tbody>\n",
       "    <tr>\n",
       "      <th>0</th>\n",
       "      <td>3816</td>\n",
       "      <td>training</td>\n",
       "      <td>#Person1#: Good morning, sir. Is there anythin...</td>\n",
       "      <td>#Person2# wants a suit made in 100 % black Bar...</td>\n",
       "      <td>neutral</td>\n",
       "    </tr>\n",
       "    <tr>\n",
       "      <th>1</th>\n",
       "      <td>3</td>\n",
       "      <td>training</td>\n",
       "      <td>#Person1#: Excuse me, did you see a set of key...</td>\n",
       "      <td>#Person1#'s looking for a set of keys and asks...</td>\n",
       "      <td>positive</td>\n",
       "    </tr>\n",
       "    <tr>\n",
       "      <th>2</th>\n",
       "      <td>4</td>\n",
       "      <td>training</td>\n",
       "      <td>#Person1#: Why didn't you tell me you had a gi...</td>\n",
       "      <td>#Person1#'s angry because #Person2# didn't tel...</td>\n",
       "      <td>negative</td>\n",
       "    </tr>\n",
       "    <tr>\n",
       "      <th>3</th>\n",
       "      <td>5</td>\n",
       "      <td>training</td>\n",
       "      <td>#Person1#: Watsup, ladies! Y'll looking'fine t...</td>\n",
       "      <td>Malik invites Nikki to dance. Nikki agrees if ...</td>\n",
       "      <td>positive</td>\n",
       "    </tr>\n",
       "    <tr>\n",
       "      <th>4</th>\n",
       "      <td>6</td>\n",
       "      <td>training</td>\n",
       "      <td>#Person1#: Happy birthday, Aims!\\n#Person2#: T...</td>\n",
       "      <td>Lisa gives Aims a birthday present and Aims lo...</td>\n",
       "      <td>positive</td>\n",
       "    </tr>\n",
       "  </tbody>\n",
       "</table>\n",
       "</div>"
      ],
      "text/plain": [
       "   dialogue_id   dataset                                      dialogue_text  \\\n",
       "0         3816  training  #Person1#: Good morning, sir. Is there anythin...   \n",
       "1            3  training  #Person1#: Excuse me, did you see a set of key...   \n",
       "2            4  training  #Person1#: Why didn't you tell me you had a gi...   \n",
       "3            5  training  #Person1#: Watsup, ladies! Y'll looking'fine t...   \n",
       "4            6  training  #Person1#: Happy birthday, Aims!\\n#Person2#: T...   \n",
       "\n",
       "                                      actual_summary actual_sentiment  \n",
       "0  #Person2# wants a suit made in 100 % black Bar...          neutral  \n",
       "1  #Person1#'s looking for a set of keys and asks...         positive  \n",
       "2  #Person1#'s angry because #Person2# didn't tel...         negative  \n",
       "3  Malik invites Nikki to dance. Nikki agrees if ...         positive  \n",
       "4  Lisa gives Aims a birthday present and Aims lo...         positive  "
      ]
     },
     "execution_count": 4,
     "metadata": {},
     "output_type": "execute_result"
    }
   ],
   "source": [
    "train_df = get_training_data()\n",
    "train_df.head()"
   ]
  },
  {
   "cell_type": "code",
   "execution_count": 5,
   "metadata": {},
   "outputs": [
    {
     "data": {
      "text/html": [
       "<div>\n",
       "<style scoped>\n",
       "    .dataframe tbody tr th:only-of-type {\n",
       "        vertical-align: middle;\n",
       "    }\n",
       "\n",
       "    .dataframe tbody tr th {\n",
       "        vertical-align: top;\n",
       "    }\n",
       "\n",
       "    .dataframe thead th {\n",
       "        text-align: right;\n",
       "    }\n",
       "</style>\n",
       "<table border=\"1\" class=\"dataframe\">\n",
       "  <thead>\n",
       "    <tr style=\"text-align: right;\">\n",
       "      <th></th>\n",
       "      <th>sentiment_id</th>\n",
       "      <th>dialogue_id</th>\n",
       "      <th>model_id</th>\n",
       "      <th>generated_sentiment</th>\n",
       "      <th>memory_sentiment_usage</th>\n",
       "      <th>time_sentiment_taken</th>\n",
       "    </tr>\n",
       "  </thead>\n",
       "  <tbody>\n",
       "    <tr>\n",
       "      <th>0</th>\n",
       "      <td>1</td>\n",
       "      <td>1</td>\n",
       "      <td>mistral 7b</td>\n",
       "      <td>neutral</td>\n",
       "      <td>None</td>\n",
       "      <td>None</td>\n",
       "    </tr>\n",
       "    <tr>\n",
       "      <th>1</th>\n",
       "      <td>2</td>\n",
       "      <td>2</td>\n",
       "      <td>mistral 7b</td>\n",
       "      <td>neutral</td>\n",
       "      <td>None</td>\n",
       "      <td>None</td>\n",
       "    </tr>\n",
       "    <tr>\n",
       "      <th>2</th>\n",
       "      <td>3</td>\n",
       "      <td>3</td>\n",
       "      <td>mistral 7b</td>\n",
       "      <td>positive</td>\n",
       "      <td>None</td>\n",
       "      <td>None</td>\n",
       "    </tr>\n",
       "    <tr>\n",
       "      <th>3</th>\n",
       "      <td>4</td>\n",
       "      <td>4</td>\n",
       "      <td>mistral 7b</td>\n",
       "      <td>negative</td>\n",
       "      <td>None</td>\n",
       "      <td>None</td>\n",
       "    </tr>\n",
       "    <tr>\n",
       "      <th>4</th>\n",
       "      <td>5</td>\n",
       "      <td>5</td>\n",
       "      <td>mistral 7b</td>\n",
       "      <td>positive</td>\n",
       "      <td>None</td>\n",
       "      <td>None</td>\n",
       "    </tr>\n",
       "  </tbody>\n",
       "</table>\n",
       "</div>"
      ],
      "text/plain": [
       "   sentiment_id  dialogue_id    model_id generated_sentiment  \\\n",
       "0             1            1  mistral 7b             neutral   \n",
       "1             2            2  mistral 7b             neutral   \n",
       "2             3            3  mistral 7b            positive   \n",
       "3             4            4  mistral 7b            negative   \n",
       "4             5            5  mistral 7b            positive   \n",
       "\n",
       "  memory_sentiment_usage time_sentiment_taken  \n",
       "0                   None                 None  \n",
       "1                   None                 None  \n",
       "2                   None                 None  \n",
       "3                   None                 None  \n",
       "4                   None                 None  "
      ]
     },
     "execution_count": 5,
     "metadata": {},
     "output_type": "execute_result"
    }
   ],
   "source": [
    "mistral_sentiment = get_model_sentiment_data('mistral 7b')\n",
    "mistral_sentiment.head()"
   ]
  },
  {
   "cell_type": "code",
   "execution_count": 6,
   "metadata": {},
   "outputs": [
    {
     "data": {
      "text/html": [
       "<div>\n",
       "<style scoped>\n",
       "    .dataframe tbody tr th:only-of-type {\n",
       "        vertical-align: middle;\n",
       "    }\n",
       "\n",
       "    .dataframe tbody tr th {\n",
       "        vertical-align: top;\n",
       "    }\n",
       "\n",
       "    .dataframe thead th {\n",
       "        text-align: right;\n",
       "    }\n",
       "</style>\n",
       "<table border=\"1\" class=\"dataframe\">\n",
       "  <thead>\n",
       "    <tr style=\"text-align: right;\">\n",
       "      <th></th>\n",
       "      <th>sentiment_id</th>\n",
       "      <th>dialogue_id</th>\n",
       "      <th>model_id</th>\n",
       "      <th>generated_sentiment</th>\n",
       "      <th>memory_sentiment_usage</th>\n",
       "      <th>time_sentiment_taken</th>\n",
       "    </tr>\n",
       "  </thead>\n",
       "  <tbody>\n",
       "    <tr>\n",
       "      <th>0</th>\n",
       "      <td>12428</td>\n",
       "      <td>3816</td>\n",
       "      <td>gemma 7b</td>\n",
       "      <td>positive</td>\n",
       "      <td>32950.429688</td>\n",
       "      <td>0.743105</td>\n",
       "    </tr>\n",
       "    <tr>\n",
       "      <th>1</th>\n",
       "      <td>12429</td>\n",
       "      <td>3</td>\n",
       "      <td>gemma 7b</td>\n",
       "      <td>positive</td>\n",
       "      <td>33164.658691</td>\n",
       "      <td>0.858522</td>\n",
       "    </tr>\n",
       "    <tr>\n",
       "      <th>2</th>\n",
       "      <td>12430</td>\n",
       "      <td>4</td>\n",
       "      <td>gemma 7b</td>\n",
       "      <td>neutral</td>\n",
       "      <td>33163.166504</td>\n",
       "      <td>0.802573</td>\n",
       "    </tr>\n",
       "    <tr>\n",
       "      <th>3</th>\n",
       "      <td>12431</td>\n",
       "      <td>5</td>\n",
       "      <td>gemma 7b</td>\n",
       "      <td>positive</td>\n",
       "      <td>33124.416504</td>\n",
       "      <td>0.993101</td>\n",
       "    </tr>\n",
       "    <tr>\n",
       "      <th>4</th>\n",
       "      <td>12432</td>\n",
       "      <td>6</td>\n",
       "      <td>gemma 7b</td>\n",
       "      <td>positive</td>\n",
       "      <td>32954.593750</td>\n",
       "      <td>1.409419</td>\n",
       "    </tr>\n",
       "  </tbody>\n",
       "</table>\n",
       "</div>"
      ],
      "text/plain": [
       "   sentiment_id  dialogue_id  model_id generated_sentiment  \\\n",
       "0         12428         3816  gemma 7b            positive   \n",
       "1         12429            3  gemma 7b            positive   \n",
       "2         12430            4  gemma 7b             neutral   \n",
       "3         12431            5  gemma 7b            positive   \n",
       "4         12432            6  gemma 7b            positive   \n",
       "\n",
       "   memory_sentiment_usage  time_sentiment_taken  \n",
       "0            32950.429688              0.743105  \n",
       "1            33164.658691              0.858522  \n",
       "2            33163.166504              0.802573  \n",
       "3            33124.416504              0.993101  \n",
       "4            32954.593750              1.409419  "
      ]
     },
     "execution_count": 6,
     "metadata": {},
     "output_type": "execute_result"
    }
   ],
   "source": [
    "gemma_sentiment = get_model_sentiment_data(\"gemma 7b\")\n",
    "gemma_sentiment.head()"
   ]
  },
  {
   "cell_type": "code",
   "execution_count": 7,
   "metadata": {},
   "outputs": [
    {
     "data": {
      "text/html": [
       "<div>\n",
       "<style scoped>\n",
       "    .dataframe tbody tr th:only-of-type {\n",
       "        vertical-align: middle;\n",
       "    }\n",
       "\n",
       "    .dataframe tbody tr th {\n",
       "        vertical-align: top;\n",
       "    }\n",
       "\n",
       "    .dataframe thead th {\n",
       "        text-align: right;\n",
       "    }\n",
       "</style>\n",
       "<table border=\"1\" class=\"dataframe\">\n",
       "  <thead>\n",
       "    <tr style=\"text-align: right;\">\n",
       "      <th></th>\n",
       "      <th>sentiment_id</th>\n",
       "      <th>dialogue_id</th>\n",
       "      <th>model_id</th>\n",
       "      <th>generated_sentiment</th>\n",
       "      <th>memory_sentiment_usage</th>\n",
       "      <th>time_sentiment_taken</th>\n",
       "    </tr>\n",
       "  </thead>\n",
       "  <tbody>\n",
       "    <tr>\n",
       "      <th>0</th>\n",
       "      <td>25855</td>\n",
       "      <td>3816</td>\n",
       "      <td>llama 3 8b</td>\n",
       "      <td>positive</td>\n",
       "      <td>31030.074219</td>\n",
       "      <td>3.045265</td>\n",
       "    </tr>\n",
       "    <tr>\n",
       "      <th>1</th>\n",
       "      <td>25856</td>\n",
       "      <td>3</td>\n",
       "      <td>llama 3 8b</td>\n",
       "      <td>positive</td>\n",
       "      <td>31099.045410</td>\n",
       "      <td>2.877197</td>\n",
       "    </tr>\n",
       "    <tr>\n",
       "      <th>2</th>\n",
       "      <td>25857</td>\n",
       "      <td>4</td>\n",
       "      <td>llama 3 8b</td>\n",
       "      <td>neutral</td>\n",
       "      <td>31097.461426</td>\n",
       "      <td>2.877703</td>\n",
       "    </tr>\n",
       "    <tr>\n",
       "      <th>3</th>\n",
       "      <td>25858</td>\n",
       "      <td>5</td>\n",
       "      <td>llama 3 8b</td>\n",
       "      <td>positive</td>\n",
       "      <td>31085.316406</td>\n",
       "      <td>2.831945</td>\n",
       "    </tr>\n",
       "    <tr>\n",
       "      <th>4</th>\n",
       "      <td>25859</td>\n",
       "      <td>6</td>\n",
       "      <td>llama 3 8b</td>\n",
       "      <td>positive</td>\n",
       "      <td>31031.229492</td>\n",
       "      <td>2.781226</td>\n",
       "    </tr>\n",
       "  </tbody>\n",
       "</table>\n",
       "</div>"
      ],
      "text/plain": [
       "   sentiment_id  dialogue_id    model_id generated_sentiment  \\\n",
       "0         25855         3816  llama 3 8b            positive   \n",
       "1         25856            3  llama 3 8b            positive   \n",
       "2         25857            4  llama 3 8b             neutral   \n",
       "3         25858            5  llama 3 8b            positive   \n",
       "4         25859            6  llama 3 8b            positive   \n",
       "\n",
       "   memory_sentiment_usage  time_sentiment_taken  \n",
       "0            31030.074219              3.045265  \n",
       "1            31099.045410              2.877197  \n",
       "2            31097.461426              2.877703  \n",
       "3            31085.316406              2.831945  \n",
       "4            31031.229492              2.781226  "
      ]
     },
     "execution_count": 7,
     "metadata": {},
     "output_type": "execute_result"
    }
   ],
   "source": [
    "llama3_sentiment = get_model_sentiment_data('llama 3 8b')\n",
    "llama3_sentiment.head()"
   ]
  },
  {
   "cell_type": "markdown",
   "metadata": {},
   "source": [
    "Compute confusion matrix for mistral"
   ]
  },
  {
   "cell_type": "code",
   "execution_count": 8,
   "metadata": {},
   "outputs": [
    {
     "data": {
      "text/html": [
       "<div>\n",
       "<style scoped>\n",
       "    .dataframe tbody tr th:only-of-type {\n",
       "        vertical-align: middle;\n",
       "    }\n",
       "\n",
       "    .dataframe tbody tr th {\n",
       "        vertical-align: top;\n",
       "    }\n",
       "\n",
       "    .dataframe thead th {\n",
       "        text-align: right;\n",
       "    }\n",
       "</style>\n",
       "<table border=\"1\" class=\"dataframe\">\n",
       "  <thead>\n",
       "    <tr style=\"text-align: right;\">\n",
       "      <th></th>\n",
       "      <th>dialogue_id</th>\n",
       "      <th>actual_sentiment</th>\n",
       "      <th>generated_sentiment</th>\n",
       "    </tr>\n",
       "  </thead>\n",
       "  <tbody>\n",
       "    <tr>\n",
       "      <th>0</th>\n",
       "      <td>3816</td>\n",
       "      <td>neutral</td>\n",
       "      <td>positive</td>\n",
       "    </tr>\n",
       "    <tr>\n",
       "      <th>1</th>\n",
       "      <td>3</td>\n",
       "      <td>positive</td>\n",
       "      <td>positive</td>\n",
       "    </tr>\n",
       "    <tr>\n",
       "      <th>2</th>\n",
       "      <td>4</td>\n",
       "      <td>negative</td>\n",
       "      <td>negative</td>\n",
       "    </tr>\n",
       "    <tr>\n",
       "      <th>3</th>\n",
       "      <td>5</td>\n",
       "      <td>positive</td>\n",
       "      <td>positive</td>\n",
       "    </tr>\n",
       "    <tr>\n",
       "      <th>4</th>\n",
       "      <td>6</td>\n",
       "      <td>positive</td>\n",
       "      <td>positive</td>\n",
       "    </tr>\n",
       "  </tbody>\n",
       "</table>\n",
       "</div>"
      ],
      "text/plain": [
       "   dialogue_id actual_sentiment generated_sentiment\n",
       "0         3816          neutral            positive\n",
       "1            3         positive            positive\n",
       "2            4         negative            negative\n",
       "3            5         positive            positive\n",
       "4            6         positive            positive"
      ]
     },
     "execution_count": 8,
     "metadata": {},
     "output_type": "execute_result"
    }
   ],
   "source": [
    "conf_mat_mistral = pd.merge(train_df[[\"dialogue_id\", \"actual_sentiment\"]],\n",
    "                        mistral_sentiment[[\"dialogue_id\", \"generated_sentiment\"]],\n",
    "                        on=\"dialogue_id\",\n",
    "                        how=\"inner\")\n",
    "conf_mat_mistral.head()"
   ]
  },
  {
   "cell_type": "code",
   "execution_count": 11,
   "metadata": {},
   "outputs": [
    {
     "data": {
      "image/png": "[encoded data removed]",
      "text/plain": [
       "<Figure size 1000x700 with 2 Axes>"
      ]
     },
     "metadata": {},
     "output_type": "display_data"
    }
   ],
   "source": [
    "# Assuming binary_actual and binary_generated are your true and predicted labels converted to binary (if needed)\n",
    "# For multi-class:\n",
    "conf_matrix1 = confusion_matrix(conf_mat_mistral['actual_sentiment'], conf_mat_mistral['generated_sentiment'])\n",
    "\n",
    "# Plotting the confusion matrix\n",
    "plt.figure(figsize=(10, 7))\n",
    "sns.heatmap(conf_matrix1, annot=True, fmt='d', cmap=\"Blues\",\n",
    "            xticklabels=['Negative', 'Neutral', 'Positive'],\n",
    "            yticklabels=['Negative', 'Neutral', 'Positive'])\n",
    "plt.xlabel('Predicted Sentiment')\n",
    "plt.ylabel('True Sentiment')\n",
    "plt.title('Sentiment Confusion Matrix: Mistral', fontsize=16, pad=14)\n",
    "plt.show()"
   ]
  },
  {
   "cell_type": "markdown",
   "metadata": {},
   "source": [
    "Mistral accuracy score"
   ]
  },
  {
   "cell_type": "code",
   "execution_count": 20,
   "metadata": {},
   "outputs": [
    {
     "name": "stdout",
     "output_type": "stream",
     "text": [
      "Overall accuracy: 0.59\n"
     ]
    }
   ],
   "source": [
    "accuracy_mistral = accuracy_score(conf_mat_mistral[\"actual_sentiment\"], conf_mat_mistral[\"generated_sentiment\"])\n",
    "print(f\"Overall accuracy: {accuracy_mistral:.2f}\")"
   ]
  },
  {
   "cell_type": "markdown",
   "metadata": {},
   "source": [
    "Compute confusion matrix for gemma"
   ]
  },
  {
   "cell_type": "code",
   "execution_count": 12,
   "metadata": {},
   "outputs": [
    {
     "data": {
      "text/html": [
       "<div>\n",
       "<style scoped>\n",
       "    .dataframe tbody tr th:only-of-type {\n",
       "        vertical-align: middle;\n",
       "    }\n",
       "\n",
       "    .dataframe tbody tr th {\n",
       "        vertical-align: top;\n",
       "    }\n",
       "\n",
       "    .dataframe thead th {\n",
       "        text-align: right;\n",
       "    }\n",
       "</style>\n",
       "<table border=\"1\" class=\"dataframe\">\n",
       "  <thead>\n",
       "    <tr style=\"text-align: right;\">\n",
       "      <th></th>\n",
       "      <th>dialogue_id</th>\n",
       "      <th>actual_sentiment</th>\n",
       "      <th>generated_sentiment</th>\n",
       "    </tr>\n",
       "  </thead>\n",
       "  <tbody>\n",
       "    <tr>\n",
       "      <th>0</th>\n",
       "      <td>3816</td>\n",
       "      <td>neutral</td>\n",
       "      <td>positive</td>\n",
       "    </tr>\n",
       "    <tr>\n",
       "      <th>1</th>\n",
       "      <td>3</td>\n",
       "      <td>positive</td>\n",
       "      <td>positive</td>\n",
       "    </tr>\n",
       "    <tr>\n",
       "      <th>2</th>\n",
       "      <td>4</td>\n",
       "      <td>negative</td>\n",
       "      <td>neutral</td>\n",
       "    </tr>\n",
       "    <tr>\n",
       "      <th>3</th>\n",
       "      <td>5</td>\n",
       "      <td>positive</td>\n",
       "      <td>positive</td>\n",
       "    </tr>\n",
       "    <tr>\n",
       "      <th>4</th>\n",
       "      <td>6</td>\n",
       "      <td>positive</td>\n",
       "      <td>positive</td>\n",
       "    </tr>\n",
       "  </tbody>\n",
       "</table>\n",
       "</div>"
      ],
      "text/plain": [
       "   dialogue_id actual_sentiment generated_sentiment\n",
       "0         3816          neutral            positive\n",
       "1            3         positive            positive\n",
       "2            4         negative             neutral\n",
       "3            5         positive            positive\n",
       "4            6         positive            positive"
      ]
     },
     "execution_count": 12,
     "metadata": {},
     "output_type": "execute_result"
    }
   ],
   "source": [
    "conf_mat_gemma = pd.merge(train_df[[\"dialogue_id\", \"actual_sentiment\"]],\n",
    "                        gemma_sentiment[[\"dialogue_id\", \"generated_sentiment\"]],\n",
    "                        on=\"dialogue_id\",\n",
    "                        how=\"inner\")\n",
    "conf_mat_gemma.head()"
   ]
  },
  {
   "cell_type": "code",
   "execution_count": 27,
   "metadata": {},
   "outputs": [
    {
     "data": {
      "image/png": "[encoded data removed]",
      "text/plain": [
       "<Figure size 1000x700 with 2 Axes>"
      ]
     },
     "metadata": {},
     "output_type": "display_data"
    }
   ],
   "source": [
    "# Assuming binary_actual and binary_generated are your true and predicted labels converted to binary (if needed)\n",
    "# For multi-class:\n",
    "conf_matrix2 = confusion_matrix(conf_mat_gemma['actual_sentiment'], conf_mat_gemma['generated_sentiment'])\n",
    "\n",
    "# Plotting the confusion matrix\n",
    "plt.figure(figsize=(10, 7))\n",
    "sns.heatmap(conf_matrix2, annot=True, fmt='d', cmap=\"Blues\",\n",
    "            xticklabels=['Negative', 'Neutral', 'Positive'],\n",
    "            yticklabels=['Negative', 'Neutral', 'Positive'])\n",
    "plt.xlabel('Predicted Sentiment')\n",
    "plt.ylabel('True Sentiment')\n",
    "plt.title('Sentiment Confusion Matrix: Gemma', fontsize=16, pad=14)\n",
    "plt.show()"
   ]
  },
  {
   "cell_type": "code",
   "execution_count": 22,
   "metadata": {},
   "outputs": [
    {
     "name": "stdout",
     "output_type": "stream",
     "text": [
      "Overall accuracy: 0.54\n"
     ]
    }
   ],
   "source": [
    "accuracy_gemma = accuracy_score(conf_mat_gemma[\"actual_sentiment\"], conf_mat_gemma[\"generated_sentiment\"])\n",
    "print(f\"Overall accuracy: {accuracy_gemma:.2f}\")"
   ]
  },
  {
   "cell_type": "markdown",
   "metadata": {},
   "source": [
    "Compute Confusion Matrix for LLama 3"
   ]
  },
  {
   "cell_type": "code",
   "execution_count": 23,
   "metadata": {},
   "outputs": [
    {
     "data": {
      "text/html": [
       "<div>\n",
       "<style scoped>\n",
       "    .dataframe tbody tr th:only-of-type {\n",
       "        vertical-align: middle;\n",
       "    }\n",
       "\n",
       "    .dataframe tbody tr th {\n",
       "        vertical-align: top;\n",
       "    }\n",
       "\n",
       "    .dataframe thead th {\n",
       "        text-align: right;\n",
       "    }\n",
       "</style>\n",
       "<table border=\"1\" class=\"dataframe\">\n",
       "  <thead>\n",
       "    <tr style=\"text-align: right;\">\n",
       "      <th></th>\n",
       "      <th>dialogue_id</th>\n",
       "      <th>actual_sentiment</th>\n",
       "      <th>generated_sentiment</th>\n",
       "    </tr>\n",
       "  </thead>\n",
       "  <tbody>\n",
       "    <tr>\n",
       "      <th>0</th>\n",
       "      <td>3816</td>\n",
       "      <td>neutral</td>\n",
       "      <td>positive</td>\n",
       "    </tr>\n",
       "    <tr>\n",
       "      <th>1</th>\n",
       "      <td>3</td>\n",
       "      <td>positive</td>\n",
       "      <td>positive</td>\n",
       "    </tr>\n",
       "    <tr>\n",
       "      <th>2</th>\n",
       "      <td>4</td>\n",
       "      <td>negative</td>\n",
       "      <td>neutral</td>\n",
       "    </tr>\n",
       "    <tr>\n",
       "      <th>3</th>\n",
       "      <td>5</td>\n",
       "      <td>positive</td>\n",
       "      <td>positive</td>\n",
       "    </tr>\n",
       "    <tr>\n",
       "      <th>4</th>\n",
       "      <td>6</td>\n",
       "      <td>positive</td>\n",
       "      <td>positive</td>\n",
       "    </tr>\n",
       "  </tbody>\n",
       "</table>\n",
       "</div>"
      ],
      "text/plain": [
       "   dialogue_id actual_sentiment generated_sentiment\n",
       "0         3816          neutral            positive\n",
       "1            3         positive            positive\n",
       "2            4         negative             neutral\n",
       "3            5         positive            positive\n",
       "4            6         positive            positive"
      ]
     },
     "execution_count": 23,
     "metadata": {},
     "output_type": "execute_result"
    }
   ],
   "source": [
    "conf_mat_llama3 = pd.merge(train_df[[\"dialogue_id\", \"actual_sentiment\"]],\n",
    "                        llama3_sentiment[[\"dialogue_id\", \"generated_sentiment\"]],\n",
    "                        on=\"dialogue_id\",\n",
    "                        how=\"inner\")\n",
    "conf_mat_llama3.head()"
   ]
  },
  {
   "cell_type": "code",
   "execution_count": 28,
   "metadata": {},
   "outputs": [
    {
     "data": {
      "image/png": "[encoded data removed]",
      "text/plain": [
       "<Figure size 1000x700 with 2 Axes>"
      ]
     },
     "metadata": {},
     "output_type": "display_data"
    }
   ],
   "source": [
    "# Assuming binary_actual and binary_generated are your true and predicted labels converted to binary (if needed)\n",
    "# For multi-class:\n",
    "conf_matrix3 = confusion_matrix(conf_mat_llama3['actual_sentiment'], conf_mat_llama3['generated_sentiment'])\n",
    "\n",
    "# Plotting the confusion matrix\n",
    "plt.figure(figsize=(10, 7))\n",
    "sns.heatmap(conf_matrix2, annot=True, fmt='d', cmap=\"Blues\",\n",
    "            xticklabels=['Negative', 'Neutral', 'Positive'],\n",
    "            yticklabels=['Negative', 'Neutral', 'Positive'])\n",
    "plt.xlabel('Predicted Sentiment')\n",
    "plt.ylabel('True Sentiment')\n",
    "plt.title('Sentiment Confusion Matrix: Llama 3', fontsize=16, pad=14)\n",
    "plt.show()"
   ]
  },
  {
   "cell_type": "code",
   "execution_count": 26,
   "metadata": {},
   "outputs": [
    {
     "name": "stdout",
     "output_type": "stream",
     "text": [
      "Overall accuracy: 0.58\n"
     ]
    }
   ],
   "source": [
    "accuracy_llama3 = accuracy_score(conf_mat_llama3[\"actual_sentiment\"], conf_mat_llama3[\"generated_sentiment\"])\n",
    "print(f\"Overall accuracy: {accuracy_llama3:.2f}\")"
   ]
  },
  {
   "cell_type": "code",
   "execution_count": 36,
   "metadata": {},
   "outputs": [
    {
     "data": {
      "text/html": [
       "<div>\n",
       "<style scoped>\n",
       "    .dataframe tbody tr th:only-of-type {\n",
       "        vertical-align: middle;\n",
       "    }\n",
       "\n",
       "    .dataframe tbody tr th {\n",
       "        vertical-align: top;\n",
       "    }\n",
       "\n",
       "    .dataframe thead th {\n",
       "        text-align: right;\n",
       "    }\n",
       "</style>\n",
       "<table border=\"1\" class=\"dataframe\">\n",
       "  <thead>\n",
       "    <tr style=\"text-align: right;\">\n",
       "      <th></th>\n",
       "      <th>LLM Model</th>\n",
       "      <th>Accuracy Score</th>\n",
       "    </tr>\n",
       "  </thead>\n",
       "  <tbody>\n",
       "    <tr>\n",
       "      <th>1</th>\n",
       "      <td>gemma 7b</td>\n",
       "      <td>0.541643</td>\n",
       "    </tr>\n",
       "    <tr>\n",
       "      <th>2</th>\n",
       "      <td>llama 3 8b</td>\n",
       "      <td>0.579062</td>\n",
       "    </tr>\n",
       "    <tr>\n",
       "      <th>0</th>\n",
       "      <td>mistral 7b</td>\n",
       "      <td>0.587752</td>\n",
       "    </tr>\n",
       "  </tbody>\n",
       "</table>\n",
       "</div>"
      ],
      "text/plain": [
       "    LLM Model  Accuracy Score\n",
       "1    gemma 7b        0.541643\n",
       "2  llama 3 8b        0.579062\n",
       "0  mistral 7b        0.587752"
      ]
     },
     "execution_count": 36,
     "metadata": {},
     "output_type": "execute_result"
    }
   ],
   "source": [
    "bar_df = pd.DataFrame({'mistral 7b': [accuracy_mistral], 'gemma 7b': [accuracy_gemma], 'llama 3 8b':[accuracy_llama3]})\n",
    "bar_df = bar_df.melt(var_name='LLM Model', value_name='Accuracy Score')\n",
    "bar_df = bar_df.sort_values('Accuracy Score', ascending=True)\n",
    "bar_df.head()"
   ]
  },
  {
   "cell_type": "code",
   "execution_count": 38,
   "metadata": {},
   "outputs": [
    {
     "name": "stderr",
     "output_type": "stream",
     "text": [
      "C:\\Users\\AViey\\AppData\\Local\\Temp\\ipykernel_30312\\2345357737.py:2: FutureWarning: \n",
      "\n",
      "Passing `palette` without assigning `hue` is deprecated and will be removed in v0.14.0. Assign the `x` variable to `hue` and set `legend=False` for the same effect.\n",
      "\n",
      "  sns.barplot(\n"
     ]
    },
    {
     "data": {
      "image/png": "[encoded data removed]",
      "text/plain": [
       "<Figure size 640x480 with 1 Axes>"
      ]
     },
     "metadata": {},
     "output_type": "display_data"
    }
   ],
   "source": [
    "colors = {'mistral 7b': 'blue', 'gemma 7b': 'green', 'llama 3 8b': 'red'}\n",
    "sns.barplot(\n",
    "    x = \"LLM Model\",\n",
    "    y = \"Accuracy Score\",\n",
    "    data = bar_df,\n",
    "    palette=colors\n",
    ")\n",
    "\n",
    "plt.show()"
   ]
  }
 ],
 "metadata": {
  "kernelspec": {
   "display_name": "Python 3",
   "language": "python",
   "name": "python3"
  },
  "language_info": {
   "codemirror_mode": {
    "name": "ipython",
    "version": 3
   },
   "file_extension": ".py",
   "mimetype": "text/x-python",
   "name": "python",
   "nbconvert_exporter": "python",
   "pygments_lexer": "ipython3",
   "version": "3.11.1"
  }
 },
 "nbformat": 4,
 "nbformat_minor": 2
}
