{
 "cells": [
  {
   "cell_type": "code",
   "execution_count": 1,
   "metadata": {},
   "outputs": [
    {
     "data": {
      "text/plain": [
       "'login-i16'"
      ]
     },
     "execution_count": 1,
     "metadata": {},
     "output_type": "execute_result"
    }
   ],
   "source": [
    "from socket import gethostname\n",
    "gethostname()"
   ]
  },
  {
   "cell_type": "code",
   "execution_count": 9,
   "metadata": {},
   "outputs": [
    {
     "data": {
      "text/plain": [
       "True"
      ]
     },
     "execution_count": 9,
     "metadata": {},
     "output_type": "execute_result"
    }
   ],
   "source": [
    "from dotenv import load_dotenv\n",
    "load_dotenv()"
   ]
  },
  {
   "cell_type": "code",
   "execution_count": 13,
   "metadata": {},
   "outputs": [],
   "source": [
    "import os\n",
    "from sqlalchemy import create_engine\n",
    "import pandas as pd\n",
    "from transformers import pipeline, AutoModelForCausalLM, AutoTokenizer\n",
    "import torch\n",
    "import time"
   ]
  },
  {
   "cell_type": "code",
   "execution_count": 4,
   "metadata": {},
   "outputs": [
    {
     "data": {
      "text/html": [
       "<div>\n",
       "<style scoped>\n",
       "    .dataframe tbody tr th:only-of-type {\n",
       "        vertical-align: middle;\n",
       "    }\n",
       "\n",
       "    .dataframe tbody tr th {\n",
       "        vertical-align: top;\n",
       "    }\n",
       "\n",
       "    .dataframe thead th {\n",
       "        text-align: right;\n",
       "    }\n",
       "</style>\n",
       "<table border=\"1\" class=\"dataframe\">\n",
       "  <thead>\n",
       "    <tr style=\"text-align: right;\">\n",
       "      <th></th>\n",
       "      <th>dialogue_id</th>\n",
       "      <th>dataset</th>\n",
       "      <th>dialogue_text</th>\n",
       "      <th>actual_summary</th>\n",
       "      <th>actual_sentiment</th>\n",
       "    </tr>\n",
       "  </thead>\n",
       "  <tbody>\n",
       "    <tr>\n",
       "      <th>0</th>\n",
       "      <td>1</td>\n",
       "      <td>training</td>\n",
       "      <td>#Person1#: Hi, Mr. Smith. I'm Doctor Hawkins. ...</td>\n",
       "      <td>Mr. Smith's getting a check-up, and Doctor Haw...</td>\n",
       "      <td>positive</td>\n",
       "    </tr>\n",
       "    <tr>\n",
       "      <th>1</th>\n",
       "      <td>2</td>\n",
       "      <td>training</td>\n",
       "      <td>#Person1#: Hello Mrs. Parker, how have you bee...</td>\n",
       "      <td>Mrs Parker takes Ricky for his vaccines. Dr. P...</td>\n",
       "      <td>positive</td>\n",
       "    </tr>\n",
       "    <tr>\n",
       "      <th>2</th>\n",
       "      <td>3</td>\n",
       "      <td>training</td>\n",
       "      <td>#Person1#: Excuse me, did you see a set of key...</td>\n",
       "      <td>#Person1#'s looking for a set of keys and asks...</td>\n",
       "      <td>positive</td>\n",
       "    </tr>\n",
       "    <tr>\n",
       "      <th>3</th>\n",
       "      <td>4</td>\n",
       "      <td>training</td>\n",
       "      <td>#Person1#: Why didn't you tell me you had a gi...</td>\n",
       "      <td>#Person1#'s angry because #Person2# didn't tel...</td>\n",
       "      <td>negative</td>\n",
       "    </tr>\n",
       "    <tr>\n",
       "      <th>4</th>\n",
       "      <td>5</td>\n",
       "      <td>training</td>\n",
       "      <td>#Person1#: Watsup, ladies! Y'll looking'fine t...</td>\n",
       "      <td>Malik invites Nikki to dance. Nikki agrees if ...</td>\n",
       "      <td>positive</td>\n",
       "    </tr>\n",
       "  </tbody>\n",
       "</table>\n",
       "</div>"
      ],
      "text/plain": [
       "   dialogue_id   dataset                                      dialogue_text  \\\n",
       "0            1  training  #Person1#: Hi, Mr. Smith. I'm Doctor Hawkins. ...   \n",
       "1            2  training  #Person1#: Hello Mrs. Parker, how have you bee...   \n",
       "2            3  training  #Person1#: Excuse me, did you see a set of key...   \n",
       "3            4  training  #Person1#: Why didn't you tell me you had a gi...   \n",
       "4            5  training  #Person1#: Watsup, ladies! Y'll looking'fine t...   \n",
       "\n",
       "                                      actual_summary actual_sentiment  \n",
       "0  Mr. Smith's getting a check-up, and Doctor Haw...         positive  \n",
       "1  Mrs Parker takes Ricky for his vaccines. Dr. P...         positive  \n",
       "2  #Person1#'s looking for a set of keys and asks...         positive  \n",
       "3  #Person1#'s angry because #Person2# didn't tel...         negative  \n",
       "4  Malik invites Nikki to dance. Nikki agrees if ...         positive  "
      ]
     },
     "execution_count": 4,
     "metadata": {},
     "output_type": "execute_result"
    }
   ],
   "source": [
    "#establish connection\n",
    "engine = create_engine(os.getenv('POSTGRE_DB_URL'))\n",
    "\n",
    "#read the dialogues table into a pandas dataframe\n",
    "dialogues = pd.read_sql(\"SELECT * FROM dialogues WHERE dataset = 'training';\", engine)\n",
    "dialogues.head()"
   ]
  },
  {
   "cell_type": "code",
   "execution_count": 26,
   "metadata": {},
   "outputs": [
    {
     "data": {
      "text/html": [
       "<div>\n",
       "<style scoped>\n",
       "    .dataframe tbody tr th:only-of-type {\n",
       "        vertical-align: middle;\n",
       "    }\n",
       "\n",
       "    .dataframe tbody tr th {\n",
       "        vertical-align: top;\n",
       "    }\n",
       "\n",
       "    .dataframe thead th {\n",
       "        text-align: right;\n",
       "    }\n",
       "</style>\n",
       "<table border=\"1\" class=\"dataframe\">\n",
       "  <thead>\n",
       "    <tr style=\"text-align: right;\">\n",
       "      <th></th>\n",
       "      <th>dialogue_id</th>\n",
       "      <th>dataset</th>\n",
       "      <th>dialogue_text</th>\n",
       "      <th>actual_summary</th>\n",
       "      <th>actual_sentiment</th>\n",
       "      <th>text_length</th>\n",
       "    </tr>\n",
       "  </thead>\n",
       "  <tbody>\n",
       "    <tr>\n",
       "      <th>0</th>\n",
       "      <td>1</td>\n",
       "      <td>training</td>\n",
       "      <td>#Person1#: Hi, Mr. Smith. I'm Doctor Hawkins. ...</td>\n",
       "      <td>Mr. Smith's getting a check-up, and Doctor Haw...</td>\n",
       "      <td>positive</td>\n",
       "      <td>931</td>\n",
       "    </tr>\n",
       "    <tr>\n",
       "      <th>1</th>\n",
       "      <td>2</td>\n",
       "      <td>training</td>\n",
       "      <td>#Person1#: Hello Mrs. Parker, how have you bee...</td>\n",
       "      <td>Mrs Parker takes Ricky for his vaccines. Dr. P...</td>\n",
       "      <td>positive</td>\n",
       "      <td>776</td>\n",
       "    </tr>\n",
       "    <tr>\n",
       "      <th>2</th>\n",
       "      <td>3</td>\n",
       "      <td>training</td>\n",
       "      <td>#Person1#: Excuse me, did you see a set of key...</td>\n",
       "      <td>#Person1#'s looking for a set of keys and asks...</td>\n",
       "      <td>positive</td>\n",
       "      <td>500</td>\n",
       "    </tr>\n",
       "    <tr>\n",
       "      <th>3</th>\n",
       "      <td>4</td>\n",
       "      <td>training</td>\n",
       "      <td>#Person1#: Why didn't you tell me you had a gi...</td>\n",
       "      <td>#Person1#'s angry because #Person2# didn't tel...</td>\n",
       "      <td>negative</td>\n",
       "      <td>526</td>\n",
       "    </tr>\n",
       "    <tr>\n",
       "      <th>4</th>\n",
       "      <td>5</td>\n",
       "      <td>training</td>\n",
       "      <td>#Person1#: Watsup, ladies! Y'll looking'fine t...</td>\n",
       "      <td>Malik invites Nikki to dance. Nikki agrees if ...</td>\n",
       "      <td>positive</td>\n",
       "      <td>480</td>\n",
       "    </tr>\n",
       "  </tbody>\n",
       "</table>\n",
       "</div>"
      ],
      "text/plain": [
       "   dialogue_id   dataset                                      dialogue_text  \\\n",
       "0            1  training  #Person1#: Hi, Mr. Smith. I'm Doctor Hawkins. ...   \n",
       "1            2  training  #Person1#: Hello Mrs. Parker, how have you bee...   \n",
       "2            3  training  #Person1#: Excuse me, did you see a set of key...   \n",
       "3            4  training  #Person1#: Why didn't you tell me you had a gi...   \n",
       "4            5  training  #Person1#: Watsup, ladies! Y'll looking'fine t...   \n",
       "\n",
       "                                      actual_summary actual_sentiment  \\\n",
       "0  Mr. Smith's getting a check-up, and Doctor Haw...         positive   \n",
       "1  Mrs Parker takes Ricky for his vaccines. Dr. P...         positive   \n",
       "2  #Person1#'s looking for a set of keys and asks...         positive   \n",
       "3  #Person1#'s angry because #Person2# didn't tel...         negative   \n",
       "4  Malik invites Nikki to dance. Nikki agrees if ...         positive   \n",
       "\n",
       "   text_length  \n",
       "0          931  \n",
       "1          776  \n",
       "2          500  \n",
       "3          526  \n",
       "4          480  "
      ]
     },
     "execution_count": 26,
     "metadata": {},
     "output_type": "execute_result"
    }
   ],
   "source": [
    "dialogues[\"text_length\"] = dialogues[\"dialogue_text\"].str.len()\n",
    "dialogues.head()"
   ]
  },
  {
   "cell_type": "code",
   "execution_count": 14,
   "metadata": {},
   "outputs": [
    {
     "name": "stdout",
     "output_type": "stream",
     "text": [
      "<class 'pandas.core.frame.DataFrame'>\n",
      "RangeIndex: 12427 entries, 0 to 12426\n",
      "Data columns (total 4 columns):\n",
      " #   Column          Non-Null Count  Dtype  \n",
      "---  ------          --------------  -----  \n",
      " 0   dialogue_id     12427 non-null  int64  \n",
      " 1   Time Taken (s)  12427 non-null  float64\n",
      " 2   GPU Usage (MB)  12427 non-null  float64\n",
      " 3   Summary         12427 non-null  object \n",
      "dtypes: float64(2), int64(1), object(1)\n",
      "memory usage: 388.5+ KB\n"
     ]
    }
   ],
   "source": [
    "summary_df = pd.read_csv(\"../Datasets/mistral_summary_results.csv\")\n",
    "summary_df.info()"
   ]
  },
  {
   "cell_type": "code",
   "execution_count": 28,
   "metadata": {},
   "outputs": [
    {
     "data": {
      "text/plain": [
       "dialogue_id            NaN\n",
       "dataset                8.0\n",
       "dialogue_text       1403.0\n",
       "actual_summary       264.0\n",
       "actual_sentiment       8.0\n",
       "text_length            NaN\n",
       "Name: 7, dtype: float64"
      ]
     },
     "execution_count": 28,
     "metadata": {},
     "output_type": "execute_result"
    }
   ],
   "source": [
    "dialogues.iloc[7].str.len()"
   ]
  },
  {
   "cell_type": "code",
   "execution_count": 29,
   "metadata": {},
   "outputs": [
    {
     "data": {
      "text/plain": [
       "count    12427.000000\n",
       "mean       730.809689\n",
       "std        368.378838\n",
       "min        190.000000\n",
       "25%        484.500000\n",
       "50%        652.000000\n",
       "75%        913.000000\n",
       "max       3028.000000\n",
       "Name: dialogue_text, dtype: float64"
      ]
     },
     "execution_count": 29,
     "metadata": {},
     "output_type": "execute_result"
    }
   ],
   "source": [
    "dialogues[\"dialogue_text\"].str.len().describe()"
   ]
  },
  {
   "cell_type": "code",
   "execution_count": 30,
   "metadata": {},
   "outputs": [
    {
     "data": {
      "text/plain": [
       "count    1687.000000\n",
       "mean      921.636633\n",
       "std       436.992774\n",
       "min       214.000000\n",
       "25%       603.000000\n",
       "50%       835.000000\n",
       "75%      1159.000000\n",
       "max      2968.000000\n",
       "Name: dialogue_text, dtype: float64"
      ]
     },
     "execution_count": 30,
     "metadata": {},
     "output_type": "execute_result"
    }
   ],
   "source": [
    "missing_rows = summary_df[summary_df[\"Summary\"].isna()][\"dialogue_id\"]\n",
    "dialogues[dialogues[\"dialogue_id\"].isin(missing_rows)][\"dialogue_text\"].str.len().describe()"
   ]
  },
  {
   "cell_type": "code",
   "execution_count": 32,
   "metadata": {},
   "outputs": [
    {
     "data": {
      "text/html": [
       "<div>\n",
       "<style scoped>\n",
       "    .dataframe tbody tr th:only-of-type {\n",
       "        vertical-align: middle;\n",
       "    }\n",
       "\n",
       "    .dataframe tbody tr th {\n",
       "        vertical-align: top;\n",
       "    }\n",
       "\n",
       "    .dataframe thead th {\n",
       "        text-align: right;\n",
       "    }\n",
       "</style>\n",
       "<table border=\"1\" class=\"dataframe\">\n",
       "  <thead>\n",
       "    <tr style=\"text-align: right;\">\n",
       "      <th></th>\n",
       "      <th>dialogue_id</th>\n",
       "      <th>dataset</th>\n",
       "      <th>dialogue_text</th>\n",
       "      <th>actual_summary</th>\n",
       "      <th>actual_sentiment</th>\n",
       "      <th>text_length</th>\n",
       "    </tr>\n",
       "  </thead>\n",
       "  <tbody>\n",
       "    <tr>\n",
       "      <th>12361</th>\n",
       "      <td>12357</td>\n",
       "      <td>training</td>\n",
       "      <td>#Person1#: Come in, please.\\n#Person2#: Good m...</td>\n",
       "      <td>Mrs. Smith is interviewing Mr. Sun who tells h...</td>\n",
       "      <td>positive</td>\n",
       "      <td>2741</td>\n",
       "    </tr>\n",
       "    <tr>\n",
       "      <th>7135</th>\n",
       "      <td>7093</td>\n",
       "      <td>training</td>\n",
       "      <td>#Person1#: Tell me something about yourself an...</td>\n",
       "      <td>#Person1# interviews #Person2#. #Person2# says...</td>\n",
       "      <td>positive</td>\n",
       "      <td>2745</td>\n",
       "    </tr>\n",
       "    <tr>\n",
       "      <th>4642</th>\n",
       "      <td>4589</td>\n",
       "      <td>training</td>\n",
       "      <td>#Person1#: Come in, please. \\n#Person2#: Good ...</td>\n",
       "      <td>Mrs. Smith is interviewing Mr.Sun who majored ...</td>\n",
       "      <td>positive</td>\n",
       "      <td>2766</td>\n",
       "    </tr>\n",
       "    <tr>\n",
       "      <th>3967</th>\n",
       "      <td>3912</td>\n",
       "      <td>training</td>\n",
       "      <td>#Person1#: Guess what, Mom. I got it.\\n#Person...</td>\n",
       "      <td>The daughter gets the driving license and her ...</td>\n",
       "      <td>positive</td>\n",
       "      <td>2784</td>\n",
       "    </tr>\n",
       "    <tr>\n",
       "      <th>3731</th>\n",
       "      <td>3679</td>\n",
       "      <td>training</td>\n",
       "      <td>#Person1#: Sally, come downstairs, please. Loo...</td>\n",
       "      <td>Eric finds a job advertisement looking for a p...</td>\n",
       "      <td>positive</td>\n",
       "      <td>2788</td>\n",
       "    </tr>\n",
       "    <tr>\n",
       "      <th>1218</th>\n",
       "      <td>1186</td>\n",
       "      <td>training</td>\n",
       "      <td>#Person1#: Hey. What's this on Facebook? It sa...</td>\n",
       "      <td>#Person2# is going to marry Jasmine but #Perso...</td>\n",
       "      <td>positive</td>\n",
       "      <td>2802</td>\n",
       "    </tr>\n",
       "    <tr>\n",
       "      <th>6578</th>\n",
       "      <td>6531</td>\n",
       "      <td>training</td>\n",
       "      <td>#Person1#: Can I help you?\\n#Person2#: Yes, I ...</td>\n",
       "      <td>#Person2# wants to buy a computer with a lot o...</td>\n",
       "      <td>positive</td>\n",
       "      <td>2805</td>\n",
       "    </tr>\n",
       "    <tr>\n",
       "      <th>8062</th>\n",
       "      <td>8022</td>\n",
       "      <td>training</td>\n",
       "      <td>#Person1#: Mrs. Miller, you are an old friend ...</td>\n",
       "      <td>#Person1# offers to cut the price by 5% and Mr...</td>\n",
       "      <td>positive</td>\n",
       "      <td>2949</td>\n",
       "    </tr>\n",
       "    <tr>\n",
       "      <th>9295</th>\n",
       "      <td>9260</td>\n",
       "      <td>training</td>\n",
       "      <td>#Person1#: Mr. Jones, shall we now discuss the...</td>\n",
       "      <td>#Person1# and #Person2# both think an attracti...</td>\n",
       "      <td>negative</td>\n",
       "      <td>2968</td>\n",
       "    </tr>\n",
       "    <tr>\n",
       "      <th>2650</th>\n",
       "      <td>7300</td>\n",
       "      <td>training</td>\n",
       "      <td>#Person1#: Today we are talking to John Knox a...</td>\n",
       "      <td>John Knox tells #Person1# about the structure ...</td>\n",
       "      <td>positive</td>\n",
       "      <td>3028</td>\n",
       "    </tr>\n",
       "  </tbody>\n",
       "</table>\n",
       "</div>"
      ],
      "text/plain": [
       "       dialogue_id   dataset  \\\n",
       "12361        12357  training   \n",
       "7135          7093  training   \n",
       "4642          4589  training   \n",
       "3967          3912  training   \n",
       "3731          3679  training   \n",
       "1218          1186  training   \n",
       "6578          6531  training   \n",
       "8062          8022  training   \n",
       "9295          9260  training   \n",
       "2650          7300  training   \n",
       "\n",
       "                                           dialogue_text  \\\n",
       "12361  #Person1#: Come in, please.\\n#Person2#: Good m...   \n",
       "7135   #Person1#: Tell me something about yourself an...   \n",
       "4642   #Person1#: Come in, please. \\n#Person2#: Good ...   \n",
       "3967   #Person1#: Guess what, Mom. I got it.\\n#Person...   \n",
       "3731   #Person1#: Sally, come downstairs, please. Loo...   \n",
       "1218   #Person1#: Hey. What's this on Facebook? It sa...   \n",
       "6578   #Person1#: Can I help you?\\n#Person2#: Yes, I ...   \n",
       "8062   #Person1#: Mrs. Miller, you are an old friend ...   \n",
       "9295   #Person1#: Mr. Jones, shall we now discuss the...   \n",
       "2650   #Person1#: Today we are talking to John Knox a...   \n",
       "\n",
       "                                          actual_summary actual_sentiment  \\\n",
       "12361  Mrs. Smith is interviewing Mr. Sun who tells h...         positive   \n",
       "7135   #Person1# interviews #Person2#. #Person2# says...         positive   \n",
       "4642   Mrs. Smith is interviewing Mr.Sun who majored ...         positive   \n",
       "3967   The daughter gets the driving license and her ...         positive   \n",
       "3731   Eric finds a job advertisement looking for a p...         positive   \n",
       "1218   #Person2# is going to marry Jasmine but #Perso...         positive   \n",
       "6578   #Person2# wants to buy a computer with a lot o...         positive   \n",
       "8062   #Person1# offers to cut the price by 5% and Mr...         positive   \n",
       "9295   #Person1# and #Person2# both think an attracti...         negative   \n",
       "2650   John Knox tells #Person1# about the structure ...         positive   \n",
       "\n",
       "       text_length  \n",
       "12361         2741  \n",
       "7135          2745  \n",
       "4642          2766  \n",
       "3967          2784  \n",
       "3731          2788  \n",
       "1218          2802  \n",
       "6578          2805  \n",
       "8062          2949  \n",
       "9295          2968  \n",
       "2650          3028  "
      ]
     },
     "execution_count": 32,
     "metadata": {},
     "output_type": "execute_result"
    }
   ],
   "source": [
    "dialogues.sort_values(by=\"text_length\").tail(10)"
   ]
  },
  {
   "cell_type": "code",
   "execution_count": 8,
   "metadata": {},
   "outputs": [
    {
     "data": {
      "application/vnd.jupyter.widget-view+json": {
       "model_id": "7f3a2fea974a4f148f828e1b55a3117b",
       "version_major": 2,
       "version_minor": 0
      },
      "text/plain": [
       "Loading checkpoint shards:   0%|          | 0/3 [00:00<?, ?it/s]"
      ]
     },
     "metadata": {},
     "output_type": "display_data"
    }
   ],
   "source": [
    "device = 'cuda' if torch.cuda.is_available() else 'cpu'\n",
    "\n",
    "model_name = \"mistralai/Mistral-7B-Instruct-v0.2\"\n",
    "model = AutoModelForCausalLM.from_pretrained(model_name).to(device)\n",
    "tokenizer = AutoTokenizer.from_pretrained(model_name)\n",
    "\n",
    "if tokenizer.pad_token is None:\n",
    "    tokenizer.pad_token = tokenizer.eos_token"
   ]
  },
  {
   "cell_type": "code",
   "execution_count": 49,
   "metadata": {},
   "outputs": [],
   "source": [
    "test_input = tokenizer([f\"Summarize the following dialogue concisely:\\n{dialogues.iloc[2650][\"dialogue_text\"]}\\nSummary:\"], return_tensors=\"pt\", padding=True, truncation=True, max_length=1024).to(device)\n",
    "test_output = model.generate(**test_input, max_new_tokens=120, do_sample=False, \n",
    "                                           pad_token_id=tokenizer.eos_token_id)"
   ]
  },
  {
   "cell_type": "code",
   "execution_count": 52,
   "metadata": {},
   "outputs": [
    {
     "data": {
      "text/plain": [
       "torch.Size([1, 801])"
      ]
     },
     "execution_count": 52,
     "metadata": {},
     "output_type": "execute_result"
    }
   ],
   "source": [
    "test_input[\"input_ids\"].shape"
   ]
  },
  {
   "cell_type": "code",
   "execution_count": 38,
   "metadata": {},
   "outputs": [
    {
     "data": {
      "text/plain": [
       "\"Summary: John Knox, General Manager of Biopaints Bath factory, discusses the company's organizational structure. Biopaints employs around 2000 people in two locations, with four main divisions: production, finance, personnel, and administration. The production division is responsible for operations at the Bath and Lille factories, with two General Managers. The finance division, headed by Financial Director Fred Rasmussen, manages the company's finances. The personnel division, led by Personnel Manager David Hopper, handles personnel matters. The production division includes research\""
      ]
     },
     "execution_count": 38,
     "metadata": {},
     "output_type": "execute_result"
    }
   ],
   "source": [
    "tokenizer.decode(test_output[0], skip_special_tokens=True)[3073:]"
   ]
  },
  {
   "cell_type": "code",
   "execution_count": 68,
   "metadata": {},
   "outputs": [],
   "source": [
    "def split_dialogue(row, max_length=1024):\n",
    "    text = row['dialogue_text']\n",
    "    if len(text) > max_length:\n",
    "        # Split by newline, but reassemble if any segment is longer than max_length characters\n",
    "        parts = text.split('\\n')\n",
    "        new_texts = []\n",
    "        current_part = ''\n",
    "        for part in parts:\n",
    "            if len(current_part) + len(part) < max_length:\n",
    "                current_part += part + '\\n'\n",
    "            else:\n",
    "                new_texts.append(current_part.strip())\n",
    "                current_part = part + '\\n'\n",
    "        if current_part:\n",
    "            new_texts.append(current_part.strip())\n",
    "        return [(row['dialogue_id'], new_text) for new_text in new_texts]\n",
    "    else:\n",
    "        return [(row['dialogue_id'], text)]\n",
    "\n",
    "def split_long_dialogues(df, max_length=1024):\n",
    "    new_rows = []\n",
    "    for _, row in df[df[\"dialogue_text\"].str.len() >= max_length].iterrows():\n",
    "        results = split_dialogue(row, max_length=max_length)\n",
    "        new_rows.extend(results)\n",
    "    return pd.concat([df[df[\"dialogue_text\"].str.len() < max_length][['dialogue_id', 'dialogue_text']], \n",
    "                    pd.DataFrame(new_rows, columns=['dialogue_id', 'dialogue_text'])])"
   ]
  },
  {
   "cell_type": "code",
   "execution_count": 15,
   "metadata": {},
   "outputs": [],
   "source": [
    "def generate_summary(model, tokenizer, dialogues, batch_size=5, device=\"cpu\"):\n",
    "\n",
    "    summaries = []\n",
    "    times = []\n",
    "    gpu_usages = []\n",
    "\n",
    "    for i in range(0, len(dialogues), batch_size):\n",
    "\n",
    "        batch = dialogues[i:i+batch_size]\n",
    "        prompts = [f\"Summarize the following dialogue concisely:\\n{dialogue}\\nSummary:\" for dialogue in batch]\n",
    "\n",
    "        start_time = time.time()\n",
    "        if device == \"cuda\":\n",
    "            torch.cuda.reset_peak_memory_stats(device)\n",
    "        \n",
    "\n",
    "        model_inputs = tokenizer(prompts, return_tensors=\"pt\", padding=True, truncation=True, \n",
    "                                 max_length=1024).to(device)\n",
    "        \n",
    "        with torch.no_grad():\n",
    "            model_outputs = model.generate(**model_inputs, max_new_tokens=120, do_sample=True, \n",
    "                                           pad_token_id=tokenizer.eos_token_id)\n",
    "        \n",
    "        end_time = time.time()\n",
    "        # Takes the average time of each batch\n",
    "        for _ in range(len(batch)):\n",
    "            times.append((end_time - start_time) / len(batch))\n",
    "\n",
    "        if device == \"cuda\":\n",
    "            peak_memory = torch.cuda.max_memory_allocated(device) / (1024 ** 2)  # Convert to MB\n",
    "            gpu_usages.append(peak_memory)\n",
    "            # Memory usage takes the average of each batch\n",
    "            for _ in range(len(batch)):\n",
    "                times.append((end_time - start_time) / len(batch))\n",
    "\n",
    "        for output in model_outputs: \n",
    "            summary = tokenizer.decode(output, skip_special_tokens=True)\n",
    "            prompt_end_index = summary.find(\"Summary: \") + len(\"Summary: \")\n",
    "            if prompt_end_index != len(\"Summary: \")-1:\n",
    "                summary = summary[prompt_end_index:].strip()\n",
    "            summaries.append(summary)\n",
    "\n",
    "    return summaries, times, gpu_usages"
   ]
  },
  {
   "cell_type": "code",
   "execution_count": 16,
   "metadata": {},
   "outputs": [],
   "source": [
    "summaries, times, gpu_usages = generate_summary(model, tokenizer, dialogues[\"dialogue_text\"][:3])    "
   ]
  },
  {
   "cell_type": "code",
   "execution_count": 17,
   "metadata": {},
   "outputs": [
    {
     "data": {
      "text/plain": [
       "[\"Doctor Hawkins checks in with Mr. Smith about his long-overdue annual check-up. Mr. Smith explains that he feels fine and hasn't seen a doctor in years, but Doctor Hawkins stresses the importance of preventative care. Mr. Smith reveals that he smokes and struggles to quit. Doctor Hawkins advises him of the health risks and offers resources to help him quit.\",\n",
       " \"Mrs. Parker brings in her son, Ricky, for his routine check-up and vaccines. According to his records, Ricky needs Hepatitis A, Chickenpox, Measles, Rubella, and Mumps shots. Mrs. Parker also mentions needing a Tetanus booster for herself. The doctor confirms and plans to administer the shots. The conversation concludes with Ricky's vaccines being given and the doctor mentioning a nurse will give Mrs. Parker her Tetanus booster.\",\n",
       " 'Person1 lost a set of five keys with a small foot ornament and asked Person2 for help in finding them. Person2 agreed to help and they searched together. Person1 was relieved when they were found.']"
      ]
     },
     "execution_count": 17,
     "metadata": {},
     "output_type": "execute_result"
    }
   ],
   "source": [
    "summaries"
   ]
  },
  {
   "cell_type": "code",
   "execution_count": 18,
   "metadata": {},
   "outputs": [
    {
     "data": {
      "text/plain": [
       "[23.92201574643453, 23.92201574643453, 23.92201574643453]"
      ]
     },
     "execution_count": 18,
     "metadata": {},
     "output_type": "execute_result"
    }
   ],
   "source": [
    "times"
   ]
  }
 ],
 "metadata": {
  "kernelspec": {
   "display_name": "Python 3 (ipykernel)",
   "language": "python",
   "name": "python3"
  },
  "language_info": {
   "codemirror_mode": {
    "name": "ipython",
    "version": 3
   },
   "file_extension": ".py",
   "mimetype": "text/x-python",
   "name": "python",
   "nbconvert_exporter": "python",
   "pygments_lexer": "ipython3",
   "version": "3.12.2"
  }
 },
 "nbformat": 4,
 "nbformat_minor": 2
}
